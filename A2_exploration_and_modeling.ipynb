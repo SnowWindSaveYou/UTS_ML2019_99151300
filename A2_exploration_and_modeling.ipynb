{
 "cells": [
  {
   "cell_type": "markdown",
   "metadata": {},
   "source": [
    "###### Init env"
   ]
  },
  {
   "cell_type": "code",
   "execution_count": 2,
   "metadata": {},
   "outputs": [],
   "source": [
    "%matplotlib inline\n",
    "import matplotlib.pyplot as plt\n",
    "import numpy as np\n",
    "import pandas as pd\n",
    "\n",
    "import torch\n",
    "import torch.nn as nn\n",
    "import torch.nn.parallel\n",
    "import torch.optim as optim\n",
    "import torch.utils.data\n",
    "from torch.autograd import Variable"
   ]
  },
  {
   "cell_type": "code",
   "execution_count": null,
   "metadata": {},
   "outputs": [],
   "source": []
  },
  {
   "cell_type": "code",
   "execution_count": null,
   "metadata": {},
   "outputs": [],
   "source": []
  },
  {
   "cell_type": "code",
   "execution_count": null,
   "metadata": {},
   "outputs": [],
   "source": []
  },
  {
   "cell_type": "code",
   "execution_count": 3,
   "metadata": {},
   "outputs": [],
   "source": [
    "# read data and skip 'date' colume\n",
    "df = pd.read_csv('./dataset/netflix-prize-data/combined_data_1.txt', \n",
    "                 header = None, names = ['user', 'rating'], \n",
    "                 usecols = [0,1])\n",
    "\n",
    "# process data type\n",
    "df['rating']=df['rating'].astype(float)\n"
   ]
  },
  {
   "cell_type": "code",
   "execution_count": 4,
   "metadata": {},
   "outputs": [],
   "source": [
    "# find empty rows for slice movies \n",
    "# dataset using movie id as user name for splite rating of each movies\n",
    "movies_interval = df[df['rating'].isna()]['user'].reset_index()\n",
    "movies_interval['index'] = movies_interval['index'].astype(int)"
   ]
  },
  {
   "cell_type": "code",
   "execution_count": null,
   "metadata": {},
   "outputs": [],
   "source": []
  },
  {
   "cell_type": "code",
   "execution_count": 5,
   "metadata": {},
   "outputs": [],
   "source": [
    "#* this is too slow *#\n",
    "# df.insert(0,'movie',0)\n",
    "# last = None\n",
    "# for i,r in movies_interval.iterrows():\n",
    "#     if last != None:\n",
    "#         df.at[last:r['index'],'movie'] = r['user']\n",
    "#     last = r['index']\n",
    "\n",
    "# create list accroding to movie interval by np\n",
    "movie_id = 1\n",
    "movie_np = []\n",
    "last = None\n",
    "for i,r in movies_interval.iterrows():\n",
    "    if last != None: \n",
    "        temp = np.full((1,r['index']-last-1), movie_id)\n",
    "        movie_np = np.append(movie_np, temp)\n",
    "        movie_id +=1\n",
    "    last = r['index']"
   ]
  },
  {
   "cell_type": "code",
   "execution_count": 6,
   "metadata": {},
   "outputs": [],
   "source": [
    "# add last movie\n",
    "temp = np.full((1,len(df)-last-1), movie_id)\n",
    "movie_np = np.append(movie_np, temp)"
   ]
  },
  {
   "cell_type": "code",
   "execution_count": 7,
   "metadata": {},
   "outputs": [],
   "source": [
    "# removie movie slice row, and combine movie colume\n",
    "df = df[pd.notnull(df['rating'])]\n",
    "df['movie'] = movie_np.astype(int)"
   ]
  },
  {
   "cell_type": "code",
   "execution_count": null,
   "metadata": {},
   "outputs": [],
   "source": []
  },
  {
   "cell_type": "code",
   "execution_count": 8,
   "metadata": {},
   "outputs": [
    {
     "name": "stdout",
     "output_type": "stream",
     "text": [
      "   rating    count\n",
      "0     1.0  1118186\n",
      "1     2.0  2439073\n",
      "2     3.0  6904181\n",
      "3     4.0  8085741\n",
      "4     5.0  5506583\n"
     ]
    },
    {
     "data": {
      "text/plain": [
       "<BarContainer object of 5 artists>"
      ]
     },
     "execution_count": 8,
     "metadata": {},
     "output_type": "execute_result"
    },
    {
     "data": {
      "image/png": "[encoded data removed]",
      "text/plain": [
       "<Figure size 432x288 with 1 Axes>"
      ]
     },
     "metadata": {
      "needs_background": "light"
     },
     "output_type": "display_data"
    }
   ],
   "source": [
    "# distribution of rating\n",
    "rating_distr = df.groupby('rating')['rating'].agg(['count']).reset_index()\n",
    "print(rating_distr)\n",
    "plt.bar(rating_distr[\"rating\"],rating_distr[\"count\"])"
   ]
  },
  {
   "cell_type": "code",
   "execution_count": 42,
   "metadata": {},
   "outputs": [
    {
     "data": {
      "text/plain": [
       "{'whiskers': [<matplotlib.lines.Line2D at 0x1300446a0>,\n",
       "  <matplotlib.lines.Line2D at 0x130044be0>],\n",
       " 'caps': [<matplotlib.lines.Line2D at 0x130046080>,\n",
       "  <matplotlib.lines.Line2D at 0x1300464e0>],\n",
       " 'boxes': [<matplotlib.lines.Line2D at 0x130044550>],\n",
       " 'medians': [<matplotlib.lines.Line2D at 0x130046940>],\n",
       " 'fliers': [<matplotlib.lines.Line2D at 0x130046da0>],\n",
       " 'means': []}"
      ]
     },
     "execution_count": 42,
     "metadata": {},
     "output_type": "execute_result"
    },
    {
     "data": {
      "image/png": "[encoded data removed]",
      "text/plain": [
       "<Figure size 432x288 with 1 Axes>"
      ]
     },
     "metadata": {
      "needs_background": "light"
     },
     "output_type": "display_data"
    }
   ],
   "source": [
    "# the rating activity\n",
    "user_activity = df.groupby('user')['user'].agg(['count']).reset_index()\n",
    "plt.boxplot(user_activity['count'].astype(int))"
   ]
  },
  {
   "cell_type": "code",
   "execution_count": 43,
   "metadata": {},
   "outputs": [
    {
     "name": "stdout",
     "output_type": "stream",
     "text": [
      "         binned   count\n",
      "0        (0, 1]   15225\n",
      "1       (1, 10]  124902\n",
      "2     (10, 100]  260361\n",
      "3   (100, 1000]   70185\n",
      "4  (1000, 2000]      73\n",
      "5  (2000, 3000]       7\n",
      "470758\n"
     ]
    },
    {
     "data": {
      "text/plain": [
       "<BarContainer object of 6 artists>"
      ]
     },
     "execution_count": 43,
     "metadata": {},
     "output_type": "execute_result"
    },
    {
     "data": {
      "image/png": "[encoded data removed]",
      "text/plain": [
       "<Figure size 432x288 with 1 Axes>"
      ]
     },
     "metadata": {
      "needs_background": "light"
     },
     "output_type": "display_data"
    }
   ],
   "source": [
    "# binning user-rating\n",
    "bins = [0,1,10,100,1000,2000,3000]\n",
    "user_activity['binned'] = pd.cut(user_activity['count'], bins)\n",
    "user_activity_bin = user_activity.groupby('binned')['binned'].agg(['count']).reset_index()\n",
    "print(user_activity_bin)\n",
    "print(len(user_activity))\n",
    "plt.bar(user_activity_bin['binned'].astype(str),user_activity_bin['count'])"
   ]
  },
  {
   "cell_type": "code",
   "execution_count": null,
   "metadata": {},
   "outputs": [],
   "source": []
  },
  {
   "cell_type": "code",
   "execution_count": null,
   "metadata": {},
   "outputs": [],
   "source": []
  },
  {
   "cell_type": "code",
   "execution_count": 44,
   "metadata": {},
   "outputs": [],
   "source": [
    "# user_activity[user_activity['count']<10]"
   ]
  },
  {
   "cell_type": "code",
   "execution_count": 45,
   "metadata": {},
   "outputs": [
    {
     "data": {
      "text/plain": [
       "(array([ 256., 2501., 1251.,  377.,   75.,   32.]),\n",
       " array([     0,    100,   1000,  10000,  50000, 100000, 150000]),\n",
       " <a list of 6 Patch objects>)"
      ]
     },
     "execution_count": 45,
     "metadata": {},
     "output_type": "execute_result"
    },
    {
     "data": {
      "image/png": "[encoded data removed]",
      "text/plain": [
       "<Figure size 432x288 with 1 Axes>"
      ]
     },
     "metadata": {
      "needs_background": "light"
     },
     "output_type": "display_data"
    }
   ],
   "source": [
    "# movie popularity\n",
    "movie_popularity = df.groupby('movie')['movie'].agg(['count']).reset_index()\n",
    "plt.hist(movie_popularity['count'],bins=[0,100,1000,10000,50000,100000,150000])"
   ]
  },
  {
   "cell_type": "code",
   "execution_count": 46,
   "metadata": {},
   "outputs": [
    {
     "data": {
      "text/html": [
       "<div>\n",
       "<style scoped>\n",
       "    .dataframe tbody tr th:only-of-type {\n",
       "        vertical-align: middle;\n",
       "    }\n",
       "\n",
       "    .dataframe tbody tr th {\n",
       "        vertical-align: top;\n",
       "    }\n",
       "\n",
       "    .dataframe thead th {\n",
       "        text-align: right;\n",
       "    }\n",
       "</style>\n",
       "<table border=\"1\" class=\"dataframe\">\n",
       "  <thead>\n",
       "    <tr style=\"text-align: right;\">\n",
       "      <th></th>\n",
       "      <th>movie</th>\n",
       "      <th>count</th>\n",
       "    </tr>\n",
       "  </thead>\n",
       "  <tbody>\n",
       "    <tr>\n",
       "      <th>819</th>\n",
       "      <td>820</td>\n",
       "      <td>45</td>\n",
       "    </tr>\n",
       "    <tr>\n",
       "      <th>914</th>\n",
       "      <td>915</td>\n",
       "      <td>43</td>\n",
       "    </tr>\n",
       "    <tr>\n",
       "      <th>2804</th>\n",
       "      <td>2805</td>\n",
       "      <td>46</td>\n",
       "    </tr>\n",
       "    <tr>\n",
       "      <th>3655</th>\n",
       "      <td>3656</td>\n",
       "      <td>42</td>\n",
       "    </tr>\n",
       "    <tr>\n",
       "      <th>3692</th>\n",
       "      <td>3693</td>\n",
       "      <td>47</td>\n",
       "    </tr>\n",
       "    <tr>\n",
       "      <th>4293</th>\n",
       "      <td>4294</td>\n",
       "      <td>44</td>\n",
       "    </tr>\n",
       "    <tr>\n",
       "      <th>4337</th>\n",
       "      <td>4338</td>\n",
       "      <td>39</td>\n",
       "    </tr>\n",
       "    <tr>\n",
       "      <th>4361</th>\n",
       "      <td>4362</td>\n",
       "      <td>36</td>\n",
       "    </tr>\n",
       "  </tbody>\n",
       "</table>\n",
       "</div>"
      ],
      "text/plain": [
       "      movie  count\n",
       "819     820     45\n",
       "914     915     43\n",
       "2804   2805     46\n",
       "3655   3656     42\n",
       "3692   3693     47\n",
       "4293   4294     44\n",
       "4337   4338     39\n",
       "4361   4362     36"
      ]
     },
     "execution_count": 46,
     "metadata": {},
     "output_type": "execute_result"
    }
   ],
   "source": [
    "movie_popularity[movie_popularity[\"count\"]<50]"
   ]
  },
  {
   "cell_type": "code",
   "execution_count": 198,
   "metadata": {},
   "outputs": [],
   "source": [
    "# export to csv\n",
    "df.to_csv(r'./dataset/formated_1.csv',index=False,sep=',')"
   ]
  },
  {
   "cell_type": "code",
   "execution_count": null,
   "metadata": {},
   "outputs": [],
   "source": []
  },
  {
   "cell_type": "code",
   "execution_count": 77,
   "metadata": {},
   "outputs": [
    {
     "name": "stdout",
     "output_type": "stream",
     "text": [
      "             user  movie  rating\n",
      "0         1488844      1     3.0\n",
      "1         1488844      8     4.0\n",
      "2         1488844     17     2.0\n",
      "3         1488844     30     3.0\n",
      "4         1488844     44     3.0\n",
      "5         1488844     58     5.0\n",
      "6         1488844     76     3.0\n",
      "7         1488844     80     3.0\n",
      "8         1488844     81     3.0\n",
      "9         1488844     83     3.0\n",
      "10        1488844    108     3.0\n",
      "11        1488844    111     2.0\n",
      "12        1488844    118     3.0\n",
      "13        1488844    143     5.0\n",
      "14        1488844    173     3.0\n",
      "15        1488844    175     3.0\n",
      "16        1488844    187     2.0\n",
      "17        1488844    189     2.0\n",
      "18        1488844    191     5.0\n",
      "19        1488844    195     4.0\n",
      "20        1488844    197     3.0\n",
      "21        1488844    199     3.0\n",
      "22        1488844    216     3.0\n",
      "23        1488844    232     3.0\n",
      "24        1488844    241     3.0\n",
      "25        1488844    268     4.0\n",
      "26        1488844    270     4.0\n",
      "27        1488844    273     2.0\n",
      "28        1488844    275     3.0\n",
      "29        1488844    285     4.0\n",
      "...           ...    ...     ...\n",
      "23213932  1456077   3418     4.0\n",
      "23213933  1456077   3433     2.0\n",
      "23213934  1456077   3466     2.0\n",
      "23213935  1456077   3500     3.0\n",
      "23213936  1456077   3538     5.0\n",
      "23213937  1456077   3573     2.0\n",
      "23213938  1456077   3610     3.0\n",
      "23213939  1456077   3612     5.0\n",
      "23213940  1456077   3782     2.0\n",
      "23213941  1456077   3918     4.0\n",
      "23213942  1456077   3920     1.0\n",
      "23213943  1456077   3925     5.0\n",
      "23213944  1456077   3936     2.0\n",
      "23213945  1456077   3938     5.0\n",
      "23213946  1456077   3960     3.0\n",
      "23213947  1456077   3962     5.0\n",
      "23213948  1456077   4043     5.0\n",
      "23213949  1456077   4049     3.0\n",
      "23213950  1456077   4060     3.0\n",
      "23213951  1456077   4080     5.0\n",
      "23213952  1456077   4141     3.0\n",
      "23213953  1456077   4155     3.0\n",
      "23213954  1456077   4227     3.0\n",
      "23213955  1456077   4256     3.0\n",
      "23213956  1456077   4356     3.0\n",
      "23213957  1456077   4394     3.0\n",
      "23213958  1456077   4402     1.0\n",
      "23213959  1456077   4472     4.0\n",
      "23213960  1456077   4479     4.0\n",
      "23213961  1456077   4496     3.0\n",
      "\n",
      "[13157484 rows x 3 columns]\n"
     ]
    }
   ],
   "source": [
    "# cdf = df.drop([user == ])\n",
    "# cdf =df.merge(user_activity, left_on='user',right_on='user')\n",
    "# cdf = cdf[cdf['count']>50][['user','movie','rating']]\n",
    "print(cdf)\n",
    "#df.to_csv(r'./dataset/cleaned_1.csv',index=False,sep=',')"
   ]
  },
  {
   "cell_type": "code",
   "execution_count": null,
   "metadata": {},
   "outputs": [],
   "source": []
  },
  {
   "cell_type": "code",
   "execution_count": 78,
   "metadata": {},
   "outputs": [],
   "source": [
    "test_users = user_activity[user_activity['count']>100].sample(frac=0.1)"
   ]
  },
  {
   "cell_type": "code",
   "execution_count": 87,
   "metadata": {},
   "outputs": [],
   "source": [
    "train_set = cdf[~(cdf['user'].isin(test_users['user']))]\n",
    "test_set = cdf[cdf['user'].isin(test_users['user'])]"
   ]
  },
  {
   "cell_type": "code",
   "execution_count": 88,
   "metadata": {},
   "outputs": [],
   "source": [
    "train_set.to_csv(r'./dataset/cleaned_train_1.csv',index=False,sep=',')\n",
    "test_set.to_csv(r'./dataset/cleaned_test_1.csv',index=False,sep=',')"
   ]
  },
  {
   "cell_type": "code",
   "execution_count": null,
   "metadata": {},
   "outputs": [],
   "source": []
  },
  {
   "cell_type": "code",
   "execution_count": null,
   "metadata": {},
   "outputs": [],
   "source": [
    "# user 470758, movie 4499\n",
    "# USER_NUM = 470758\n",
    "# MOVIE_NUM = 4499\n",
    "\n",
    "# matrix = []\n",
    "# for i, user in user_activity.iterrows():\n",
    "#     movie_list = df[df['user']== user['user']]['movie']\n",
    "#     rating_list = df[df['user']==user['user']]['rating']\n",
    "#     ratings = np.zeros(MOVIE_NUM)\n",
    "#     ratings[movie_list -1] = rating_list\n",
    "#     matrix.append(list(ratings))"
   ]
  },
  {
   "cell_type": "code",
   "execution_count": 349,
   "metadata": {},
   "outputs": [],
   "source": [
    "np_matrix = np.array(matrix)"
   ]
  },
  {
   "cell_type": "code",
   "execution_count": 352,
   "metadata": {},
   "outputs": [],
   "source": [
    "np.savetxt('dataset/np_matrix_1.txt',np_matrix)\n",
    "# np.loadtxt(\"np_matrix_1.txt\")  "
   ]
  },
  {
   "cell_type": "code",
   "execution_count": 342,
   "metadata": {},
   "outputs": [],
   "source": [
    "# user 470758, movie 4499\n",
    "USER_NUM = 5\n",
    "MOVIE_NUM = 4499\n",
    "np_matrix = np.zeros((USER_NUM, MOVIE_NUM))\n",
    "users = list(user_activity['user']) #用户列表\n",
    "i=0\n",
    "for user in users:\n",
    "    user_list = df[df['user']== user] #获取全部用户评分\n",
    "    np_matrix[i][user_list['movie'] -1] = user_list['rating'] #按index插入评分\n",
    "    \n",
    "    i+=1\n",
    "    if i>USER_NUM-1:\n",
    "        break"
   ]
  },
  {
   "cell_type": "code",
   "execution_count": 58,
   "metadata": {},
   "outputs": [],
   "source": [
    "#mg_df = pd.merge(df,user_activity,how='left',on='user')\n",
    "df = pd.read_csv('./dataset/formated_1.csv', \n",
    "                 header = 0, \n",
    "                 names = ['user', 'rating','movie'], \n",
    "                 usecols = [0,2,1])\n",
    "df['rating']=df['rating'].astype(float)\n",
    "df['movie']=df['movie'].astype(float)\n",
    "df['user']=df['user'].astype(float)"
   ]
  },
  {
   "cell_type": "code",
   "execution_count": 72,
   "metadata": {},
   "outputs": [
    {
     "data": {
      "text/html": [
       "<div>\n",
       "<style scoped>\n",
       "    .dataframe tbody tr th:only-of-type {\n",
       "        vertical-align: middle;\n",
       "    }\n",
       "\n",
       "    .dataframe tbody tr th {\n",
       "        vertical-align: top;\n",
       "    }\n",
       "\n",
       "    .dataframe thead th {\n",
       "        text-align: right;\n",
       "    }\n",
       "</style>\n",
       "<table border=\"1\" class=\"dataframe\">\n",
       "  <thead>\n",
       "    <tr style=\"text-align: right;\">\n",
       "      <th></th>\n",
       "      <th>user</th>\n",
       "      <th>movie</th>\n",
       "      <th>rating</th>\n",
       "    </tr>\n",
       "  </thead>\n",
       "  <tbody>\n",
       "    <tr>\n",
       "      <th>0</th>\n",
       "      <td>1488844.0</td>\n",
       "      <td>1.0</td>\n",
       "      <td>3.0</td>\n",
       "    </tr>\n",
       "    <tr>\n",
       "      <th>1</th>\n",
       "      <td>822109.0</td>\n",
       "      <td>1.0</td>\n",
       "      <td>5.0</td>\n",
       "    </tr>\n",
       "    <tr>\n",
       "      <th>2</th>\n",
       "      <td>885013.0</td>\n",
       "      <td>1.0</td>\n",
       "      <td>4.0</td>\n",
       "    </tr>\n",
       "    <tr>\n",
       "      <th>3</th>\n",
       "      <td>30878.0</td>\n",
       "      <td>1.0</td>\n",
       "      <td>4.0</td>\n",
       "    </tr>\n",
       "    <tr>\n",
       "      <th>4</th>\n",
       "      <td>823519.0</td>\n",
       "      <td>1.0</td>\n",
       "      <td>3.0</td>\n",
       "    </tr>\n",
       "    <tr>\n",
       "      <th>5</th>\n",
       "      <td>893988.0</td>\n",
       "      <td>1.0</td>\n",
       "      <td>3.0</td>\n",
       "    </tr>\n",
       "    <tr>\n",
       "      <th>6</th>\n",
       "      <td>124105.0</td>\n",
       "      <td>1.0</td>\n",
       "      <td>4.0</td>\n",
       "    </tr>\n",
       "    <tr>\n",
       "      <th>7</th>\n",
       "      <td>1248029.0</td>\n",
       "      <td>1.0</td>\n",
       "      <td>3.0</td>\n",
       "    </tr>\n",
       "    <tr>\n",
       "      <th>8</th>\n",
       "      <td>1842128.0</td>\n",
       "      <td>1.0</td>\n",
       "      <td>4.0</td>\n",
       "    </tr>\n",
       "    <tr>\n",
       "      <th>9</th>\n",
       "      <td>2238063.0</td>\n",
       "      <td>1.0</td>\n",
       "      <td>3.0</td>\n",
       "    </tr>\n",
       "    <tr>\n",
       "      <th>10</th>\n",
       "      <td>1503895.0</td>\n",
       "      <td>1.0</td>\n",
       "      <td>4.0</td>\n",
       "    </tr>\n",
       "    <tr>\n",
       "      <th>11</th>\n",
       "      <td>2207774.0</td>\n",
       "      <td>1.0</td>\n",
       "      <td>5.0</td>\n",
       "    </tr>\n",
       "    <tr>\n",
       "      <th>12</th>\n",
       "      <td>2590061.0</td>\n",
       "      <td>1.0</td>\n",
       "      <td>3.0</td>\n",
       "    </tr>\n",
       "    <tr>\n",
       "      <th>13</th>\n",
       "      <td>2442.0</td>\n",
       "      <td>1.0</td>\n",
       "      <td>3.0</td>\n",
       "    </tr>\n",
       "    <tr>\n",
       "      <th>14</th>\n",
       "      <td>543865.0</td>\n",
       "      <td>1.0</td>\n",
       "      <td>4.0</td>\n",
       "    </tr>\n",
       "    <tr>\n",
       "      <th>15</th>\n",
       "      <td>1209119.0</td>\n",
       "      <td>1.0</td>\n",
       "      <td>4.0</td>\n",
       "    </tr>\n",
       "    <tr>\n",
       "      <th>16</th>\n",
       "      <td>804919.0</td>\n",
       "      <td>1.0</td>\n",
       "      <td>4.0</td>\n",
       "    </tr>\n",
       "    <tr>\n",
       "      <th>17</th>\n",
       "      <td>1086807.0</td>\n",
       "      <td>1.0</td>\n",
       "      <td>3.0</td>\n",
       "    </tr>\n",
       "    <tr>\n",
       "      <th>18</th>\n",
       "      <td>1711859.0</td>\n",
       "      <td>1.0</td>\n",
       "      <td>4.0</td>\n",
       "    </tr>\n",
       "    <tr>\n",
       "      <th>19</th>\n",
       "      <td>372233.0</td>\n",
       "      <td>1.0</td>\n",
       "      <td>5.0</td>\n",
       "    </tr>\n",
       "    <tr>\n",
       "      <th>20</th>\n",
       "      <td>1080361.0</td>\n",
       "      <td>1.0</td>\n",
       "      <td>3.0</td>\n",
       "    </tr>\n",
       "    <tr>\n",
       "      <th>21</th>\n",
       "      <td>1245640.0</td>\n",
       "      <td>1.0</td>\n",
       "      <td>3.0</td>\n",
       "    </tr>\n",
       "    <tr>\n",
       "      <th>22</th>\n",
       "      <td>558634.0</td>\n",
       "      <td>1.0</td>\n",
       "      <td>4.0</td>\n",
       "    </tr>\n",
       "    <tr>\n",
       "      <th>23</th>\n",
       "      <td>2165002.0</td>\n",
       "      <td>1.0</td>\n",
       "      <td>4.0</td>\n",
       "    </tr>\n",
       "    <tr>\n",
       "      <th>24</th>\n",
       "      <td>1181550.0</td>\n",
       "      <td>1.0</td>\n",
       "      <td>3.0</td>\n",
       "    </tr>\n",
       "    <tr>\n",
       "      <th>25</th>\n",
       "      <td>1227322.0</td>\n",
       "      <td>1.0</td>\n",
       "      <td>4.0</td>\n",
       "    </tr>\n",
       "    <tr>\n",
       "      <th>26</th>\n",
       "      <td>427928.0</td>\n",
       "      <td>1.0</td>\n",
       "      <td>4.0</td>\n",
       "    </tr>\n",
       "    <tr>\n",
       "      <th>27</th>\n",
       "      <td>814701.0</td>\n",
       "      <td>1.0</td>\n",
       "      <td>5.0</td>\n",
       "    </tr>\n",
       "    <tr>\n",
       "      <th>28</th>\n",
       "      <td>808731.0</td>\n",
       "      <td>1.0</td>\n",
       "      <td>4.0</td>\n",
       "    </tr>\n",
       "    <tr>\n",
       "      <th>29</th>\n",
       "      <td>662870.0</td>\n",
       "      <td>1.0</td>\n",
       "      <td>5.0</td>\n",
       "    </tr>\n",
       "    <tr>\n",
       "      <th>...</th>\n",
       "      <td>...</td>\n",
       "      <td>...</td>\n",
       "      <td>...</td>\n",
       "    </tr>\n",
       "    <tr>\n",
       "      <th>24053734</th>\n",
       "      <td>1836014.0</td>\n",
       "      <td>4499.0</td>\n",
       "      <td>3.0</td>\n",
       "    </tr>\n",
       "    <tr>\n",
       "      <th>24053735</th>\n",
       "      <td>1960927.0</td>\n",
       "      <td>4499.0</td>\n",
       "      <td>1.0</td>\n",
       "    </tr>\n",
       "    <tr>\n",
       "      <th>24053736</th>\n",
       "      <td>2385226.0</td>\n",
       "      <td>4499.0</td>\n",
       "      <td>1.0</td>\n",
       "    </tr>\n",
       "    <tr>\n",
       "      <th>24053737</th>\n",
       "      <td>1997469.0</td>\n",
       "      <td>4499.0</td>\n",
       "      <td>2.0</td>\n",
       "    </tr>\n",
       "    <tr>\n",
       "      <th>24053738</th>\n",
       "      <td>811530.0</td>\n",
       "      <td>4499.0</td>\n",
       "      <td>4.0</td>\n",
       "    </tr>\n",
       "    <tr>\n",
       "      <th>24053739</th>\n",
       "      <td>1083336.0</td>\n",
       "      <td>4499.0</td>\n",
       "      <td>5.0</td>\n",
       "    </tr>\n",
       "    <tr>\n",
       "      <th>24053740</th>\n",
       "      <td>1309223.0</td>\n",
       "      <td>4499.0</td>\n",
       "      <td>1.0</td>\n",
       "    </tr>\n",
       "    <tr>\n",
       "      <th>24053741</th>\n",
       "      <td>604335.0</td>\n",
       "      <td>4499.0</td>\n",
       "      <td>4.0</td>\n",
       "    </tr>\n",
       "    <tr>\n",
       "      <th>24053742</th>\n",
       "      <td>307404.0</td>\n",
       "      <td>4499.0</td>\n",
       "      <td>2.0</td>\n",
       "    </tr>\n",
       "    <tr>\n",
       "      <th>24053743</th>\n",
       "      <td>1334851.0</td>\n",
       "      <td>4499.0</td>\n",
       "      <td>3.0</td>\n",
       "    </tr>\n",
       "    <tr>\n",
       "      <th>24053744</th>\n",
       "      <td>1061120.0</td>\n",
       "      <td>4499.0</td>\n",
       "      <td>3.0</td>\n",
       "    </tr>\n",
       "    <tr>\n",
       "      <th>24053745</th>\n",
       "      <td>1852040.0</td>\n",
       "      <td>4499.0</td>\n",
       "      <td>1.0</td>\n",
       "    </tr>\n",
       "    <tr>\n",
       "      <th>24053746</th>\n",
       "      <td>268846.0</td>\n",
       "      <td>4499.0</td>\n",
       "      <td>4.0</td>\n",
       "    </tr>\n",
       "    <tr>\n",
       "      <th>24053747</th>\n",
       "      <td>2368103.0</td>\n",
       "      <td>4499.0</td>\n",
       "      <td>2.0</td>\n",
       "    </tr>\n",
       "    <tr>\n",
       "      <th>24053748</th>\n",
       "      <td>529787.0</td>\n",
       "      <td>4499.0</td>\n",
       "      <td>4.0</td>\n",
       "    </tr>\n",
       "    <tr>\n",
       "      <th>24053749</th>\n",
       "      <td>441248.0</td>\n",
       "      <td>4499.0</td>\n",
       "      <td>4.0</td>\n",
       "    </tr>\n",
       "    <tr>\n",
       "      <th>24053750</th>\n",
       "      <td>2092745.0</td>\n",
       "      <td>4499.0</td>\n",
       "      <td>5.0</td>\n",
       "    </tr>\n",
       "    <tr>\n",
       "      <th>24053751</th>\n",
       "      <td>555962.0</td>\n",
       "      <td>4499.0</td>\n",
       "      <td>5.0</td>\n",
       "    </tr>\n",
       "    <tr>\n",
       "      <th>24053752</th>\n",
       "      <td>303969.0</td>\n",
       "      <td>4499.0</td>\n",
       "      <td>2.0</td>\n",
       "    </tr>\n",
       "    <tr>\n",
       "      <th>24053753</th>\n",
       "      <td>654591.0</td>\n",
       "      <td>4499.0</td>\n",
       "      <td>3.0</td>\n",
       "    </tr>\n",
       "    <tr>\n",
       "      <th>24053754</th>\n",
       "      <td>272857.0</td>\n",
       "      <td>4499.0</td>\n",
       "      <td>4.0</td>\n",
       "    </tr>\n",
       "    <tr>\n",
       "      <th>24053755</th>\n",
       "      <td>185372.0</td>\n",
       "      <td>4499.0</td>\n",
       "      <td>1.0</td>\n",
       "    </tr>\n",
       "    <tr>\n",
       "      <th>24053756</th>\n",
       "      <td>2219917.0</td>\n",
       "      <td>4499.0</td>\n",
       "      <td>3.0</td>\n",
       "    </tr>\n",
       "    <tr>\n",
       "      <th>24053757</th>\n",
       "      <td>1796454.0</td>\n",
       "      <td>4499.0</td>\n",
       "      <td>1.0</td>\n",
       "    </tr>\n",
       "    <tr>\n",
       "      <th>24053758</th>\n",
       "      <td>2562830.0</td>\n",
       "      <td>4499.0</td>\n",
       "      <td>4.0</td>\n",
       "    </tr>\n",
       "    <tr>\n",
       "      <th>24053759</th>\n",
       "      <td>2591364.0</td>\n",
       "      <td>4499.0</td>\n",
       "      <td>2.0</td>\n",
       "    </tr>\n",
       "    <tr>\n",
       "      <th>24053760</th>\n",
       "      <td>1791000.0</td>\n",
       "      <td>4499.0</td>\n",
       "      <td>2.0</td>\n",
       "    </tr>\n",
       "    <tr>\n",
       "      <th>24053761</th>\n",
       "      <td>512536.0</td>\n",
       "      <td>4499.0</td>\n",
       "      <td>5.0</td>\n",
       "    </tr>\n",
       "    <tr>\n",
       "      <th>24053762</th>\n",
       "      <td>988963.0</td>\n",
       "      <td>4499.0</td>\n",
       "      <td>3.0</td>\n",
       "    </tr>\n",
       "    <tr>\n",
       "      <th>24053763</th>\n",
       "      <td>1704416.0</td>\n",
       "      <td>4499.0</td>\n",
       "      <td>3.0</td>\n",
       "    </tr>\n",
       "  </tbody>\n",
       "</table>\n",
       "<p>24053764 rows × 3 columns</p>\n",
       "</div>"
      ],
      "text/plain": [
       "               user   movie  rating\n",
       "0         1488844.0     1.0     3.0\n",
       "1          822109.0     1.0     5.0\n",
       "2          885013.0     1.0     4.0\n",
       "3           30878.0     1.0     4.0\n",
       "4          823519.0     1.0     3.0\n",
       "5          893988.0     1.0     3.0\n",
       "6          124105.0     1.0     4.0\n",
       "7         1248029.0     1.0     3.0\n",
       "8         1842128.0     1.0     4.0\n",
       "9         2238063.0     1.0     3.0\n",
       "10        1503895.0     1.0     4.0\n",
       "11        2207774.0     1.0     5.0\n",
       "12        2590061.0     1.0     3.0\n",
       "13           2442.0     1.0     3.0\n",
       "14         543865.0     1.0     4.0\n",
       "15        1209119.0     1.0     4.0\n",
       "16         804919.0     1.0     4.0\n",
       "17        1086807.0     1.0     3.0\n",
       "18        1711859.0     1.0     4.0\n",
       "19         372233.0     1.0     5.0\n",
       "20        1080361.0     1.0     3.0\n",
       "21        1245640.0     1.0     3.0\n",
       "22         558634.0     1.0     4.0\n",
       "23        2165002.0     1.0     4.0\n",
       "24        1181550.0     1.0     3.0\n",
       "25        1227322.0     1.0     4.0\n",
       "26         427928.0     1.0     4.0\n",
       "27         814701.0     1.0     5.0\n",
       "28         808731.0     1.0     4.0\n",
       "29         662870.0     1.0     5.0\n",
       "...             ...     ...     ...\n",
       "24053734  1836014.0  4499.0     3.0\n",
       "24053735  1960927.0  4499.0     1.0\n",
       "24053736  2385226.0  4499.0     1.0\n",
       "24053737  1997469.0  4499.0     2.0\n",
       "24053738   811530.0  4499.0     4.0\n",
       "24053739  1083336.0  4499.0     5.0\n",
       "24053740  1309223.0  4499.0     1.0\n",
       "24053741   604335.0  4499.0     4.0\n",
       "24053742   307404.0  4499.0     2.0\n",
       "24053743  1334851.0  4499.0     3.0\n",
       "24053744  1061120.0  4499.0     3.0\n",
       "24053745  1852040.0  4499.0     1.0\n",
       "24053746   268846.0  4499.0     4.0\n",
       "24053747  2368103.0  4499.0     2.0\n",
       "24053748   529787.0  4499.0     4.0\n",
       "24053749   441248.0  4499.0     4.0\n",
       "24053750  2092745.0  4499.0     5.0\n",
       "24053751   555962.0  4499.0     5.0\n",
       "24053752   303969.0  4499.0     2.0\n",
       "24053753   654591.0  4499.0     3.0\n",
       "24053754   272857.0  4499.0     4.0\n",
       "24053755   185372.0  4499.0     1.0\n",
       "24053756  2219917.0  4499.0     3.0\n",
       "24053757  1796454.0  4499.0     1.0\n",
       "24053758  2562830.0  4499.0     4.0\n",
       "24053759  2591364.0  4499.0     2.0\n",
       "24053760  1791000.0  4499.0     2.0\n",
       "24053761   512536.0  4499.0     5.0\n",
       "24053762   988963.0  4499.0     3.0\n",
       "24053763  1704416.0  4499.0     3.0\n",
       "\n",
       "[24053764 rows x 3 columns]"
      ]
     },
     "execution_count": 72,
     "metadata": {},
     "output_type": "execute_result"
    }
   ],
   "source": [
    "df[['user','movie','rating']]"
   ]
  },
  {
   "cell_type": "code",
   "execution_count": 75,
   "metadata": {},
   "outputs": [
    {
     "ename": "AttributeError",
     "evalue": "'DataFrame' object has no attribute 'to_coo'",
     "output_type": "error",
     "traceback": [
      "\u001b[0;31m---------------------------------------------------------------------------\u001b[0m",
      "\u001b[0;31mAttributeError\u001b[0m                            Traceback (most recent call last)",
      "\u001b[0;32m<ipython-input-75-5f3620aaf991>\u001b[0m in \u001b[0;36m<module>\u001b[0;34m\u001b[0m\n\u001b[0;32m----> 1\u001b[0;31m \u001b[0msparse_matrix\u001b[0m \u001b[0;34m=\u001b[0m \u001b[0mscipy\u001b[0m\u001b[0;34m.\u001b[0m\u001b[0msparse\u001b[0m\u001b[0;34m.\u001b[0m\u001b[0mcsr_matrix\u001b[0m\u001b[0;34m(\u001b[0m\u001b[0mdf\u001b[0m\u001b[0;34m[\u001b[0m\u001b[0;34m[\u001b[0m\u001b[0;34m'user'\u001b[0m\u001b[0;34m,\u001b[0m\u001b[0;34m'movie'\u001b[0m\u001b[0;34m,\u001b[0m\u001b[0;34m'rating'\u001b[0m\u001b[0;34m]\u001b[0m\u001b[0;34m]\u001b[0m\u001b[0;34m.\u001b[0m\u001b[0mto_coo\u001b[0m\u001b[0;34m(\u001b[0m\u001b[0;34m)\u001b[0m\u001b[0;34m)\u001b[0m\u001b[0;34m\u001b[0m\u001b[0;34m\u001b[0m\u001b[0m\n\u001b[0m",
      "\u001b[0;32m~/miniconda3/lib/python3.6/site-packages/pandas/core/generic.py\u001b[0m in \u001b[0;36m__getattr__\u001b[0;34m(self, name)\u001b[0m\n\u001b[1;32m   5065\u001b[0m             \u001b[0;32mif\u001b[0m \u001b[0mself\u001b[0m\u001b[0;34m.\u001b[0m\u001b[0m_info_axis\u001b[0m\u001b[0;34m.\u001b[0m\u001b[0m_can_hold_identifiers_and_holds_name\u001b[0m\u001b[0;34m(\u001b[0m\u001b[0mname\u001b[0m\u001b[0;34m)\u001b[0m\u001b[0;34m:\u001b[0m\u001b[0;34m\u001b[0m\u001b[0;34m\u001b[0m\u001b[0m\n\u001b[1;32m   5066\u001b[0m                 \u001b[0;32mreturn\u001b[0m \u001b[0mself\u001b[0m\u001b[0;34m[\u001b[0m\u001b[0mname\u001b[0m\u001b[0;34m]\u001b[0m\u001b[0;34m\u001b[0m\u001b[0;34m\u001b[0m\u001b[0m\n\u001b[0;32m-> 5067\u001b[0;31m             \u001b[0;32mreturn\u001b[0m \u001b[0mobject\u001b[0m\u001b[0;34m.\u001b[0m\u001b[0m__getattribute__\u001b[0m\u001b[0;34m(\u001b[0m\u001b[0mself\u001b[0m\u001b[0;34m,\u001b[0m \u001b[0mname\u001b[0m\u001b[0;34m)\u001b[0m\u001b[0;34m\u001b[0m\u001b[0;34m\u001b[0m\u001b[0m\n\u001b[0m\u001b[1;32m   5068\u001b[0m \u001b[0;34m\u001b[0m\u001b[0m\n\u001b[1;32m   5069\u001b[0m     \u001b[0;32mdef\u001b[0m \u001b[0m__setattr__\u001b[0m\u001b[0;34m(\u001b[0m\u001b[0mself\u001b[0m\u001b[0;34m,\u001b[0m \u001b[0mname\u001b[0m\u001b[0;34m,\u001b[0m \u001b[0mvalue\u001b[0m\u001b[0;34m)\u001b[0m\u001b[0;34m:\u001b[0m\u001b[0;34m\u001b[0m\u001b[0;34m\u001b[0m\u001b[0m\n",
      "\u001b[0;31mAttributeError\u001b[0m: 'DataFrame' object has no attribute 'to_coo'"
     ]
    }
   ],
   "source": [
    "sparse_matrix = scipy.sparse.csr_matrix(df[['user','movie','rating']].to_coo())"
   ]
  },
  {
   "cell_type": "code",
   "execution_count": null,
   "metadata": {},
   "outputs": [],
   "source": [
    "sparse_matrix[:10].toarray()"
   ]
  },
  {
   "cell_type": "code",
   "execution_count": 70,
   "metadata": {},
   "outputs": [
    {
     "name": "stdout",
     "output_type": "stream",
     "text": [
      "Sparsity: 100.00%\n"
     ]
    }
   ],
   "source": [
    "sparsity = float(len(sparse_matrix.nonzero()[0]))\n",
    "sparsity /= (sparse_matrix.shape[0] * sparse_matrix.shape[1])\n",
    "sparsity *= 100\n",
    "print ('Sparsity: {:4.2f}%'.format(sparsity))"
   ]
  },
  {
   "cell_type": "code",
   "execution_count": 353,
   "metadata": {},
   "outputs": [],
   "source": [
    "#RBM\n",
    "\n",
    "class RBM_basic():\n",
    "    def __init__(self,  num_visible,num_hidden):\n",
    "        self.weight = torch.randn(num_hidden,num_visible)\n",
    "        self.visible_bias = torch.randn(1, num_visible)\n",
    "        self.hidden_bias = torch.randn(1, num_hidden)\n",
    "        \n",
    "    # sample hidden nodes\n",
    "    def sample_hidden(self, visible_prob):\n",
    "        weight_visible = torch.mm(visible_prob, self.weight.t())\n",
    "        h_activation = weight_visible + self.hidden_bias.expand_as(weight_visible)\n",
    "        prob_h_given_v = torch.sigmoid(h_activation)\n",
    "        return prob_h_given_v, torch.bernoulli(prob_h_given_v) #prob + 0/1\n",
    "    \n",
    "    def sample_visible(self, hidden_prob):\n",
    "        weight_hidden = torch.mm(hidden_prob, self.weight)\n",
    "        v_activation = weight_hidden + self.visible_bias.expand_as(weight_hidden)\n",
    "        prob_v_given_h = torch.sigmoid(v_activation)\n",
    "        return prob_v_given_h, torch.bernoulli(prob_v_given_h)\n",
    "\n",
    "    def train(self, visible, k_visible, prob_hidden, k_prob_hidden):\n",
    "        vh = torch.mm(visible.t(), prob_hidden)\n",
    "        kvh = torch.mm(k_visible.t(), k_prob_hidden)\n",
    "        b = vh-kvh\n",
    "        \n",
    "        self.weight += b.t()\n",
    "        self.visible_bias += torch.sum((visible - k_visible), 0)\n",
    "        self.hidden_bias += torch.sum((prob_hidden - k_prob_hidden), 0)\n"
   ]
  },
  {
   "cell_type": "code",
   "execution_count": 354,
   "metadata": {},
   "outputs": [],
   "source": [
    "num_visible = len(matrix[0])\n",
    "num_hidden = 1\n",
    "rbm = RBM_basic(num_visible, num_hidden)"
   ]
  },
  {
   "cell_type": "code",
   "execution_count": 355,
   "metadata": {},
   "outputs": [
    {
     "name": "stdout",
     "output_type": "stream",
     "text": [
      "epoch: 1 loss: tensor(1.00000e-02 *\n",
      "       8.8429)\n"
     ]
    }
   ],
   "source": [
    "#training\n",
    "training_set = torch.FloatTensor(matrix)\n",
    "batch_size = 100\n",
    "nb_epoch = 1\n",
    "nb_user = len(matrix) - batch_size\n",
    "for epoch in range(1, nb_epoch + 1):\n",
    "    train_loss = 0\n",
    "    s = 0.\n",
    "    for id_user in range(0, nb_user, batch_size):\n",
    "        k_visible = training_set[id_user:id_user+batch_size]\n",
    "        visible = training_set[id_user:id_user+batch_size]\n",
    "        prob_hidden,_ = rbm.sample_hidden(visible)\n",
    "        \n",
    "        for k in range(10):\n",
    "            _,k_hidden = rbm.sample_hidden(k_visible)\n",
    "            _,k_visible = rbm.sample_visible(k_hidden)\n",
    "            \n",
    "            k_visible[visible<0] = visible[visible<0]\n",
    "            \n",
    "        k_prob_hidden,_ = rbm.sample_hidden(k_visible)\n",
    "        rbm.train(visible, k_visible, prob_hidden, k_prob_hidden)\n",
    "        \n",
    "        train_loss += torch.mean(torch.abs(visible[visible>=0] - k_visible[visible>=0]))\n",
    "        s += 1.\n",
    "    print('epoch: '+str(epoch)+' loss: '+str(train_loss/s))"
   ]
  },
  {
   "cell_type": "code",
   "execution_count": null,
   "metadata": {},
   "outputs": [],
   "source": []
  },
  {
   "cell_type": "code",
   "execution_count": null,
   "metadata": {},
   "outputs": [],
   "source": [
    "class RBM(torch.nn.Module):\n",
    "    def __init__(self,  \n",
    "                 num_visible,\n",
    "                 num_hidden,\n",
    "                 lr = 1e-5,\n",
    "                 k = 10,\n",
    "                 use_gpu=False\n",
    "                ):\n",
    "        super(RBM,self).__init__()\n",
    "        self.desc = \"RBM\"\n",
    "        \n",
    "        self.weight = torch.randn(num_hidden,num_visible)\n",
    "        self.visible_bias = torch.randn(1, num_visible)\n",
    "        self.hidden_bias = torch.randn(1, num_hidden)\n",
    "        \n",
    "        self.k = k\n",
    "        self.use_gpu = use_gpu\n",
    "        \n",
    "        \n",
    "    # sample hidden nodes\n",
    "    def sample_hidden(self, visible_prob):\n",
    "        weight_visible = torch.mm(visible_prob, self.weight.t())\n",
    "        h_activation = weight_visible + self.hidden_bias.expand_as(weight_visible)\n",
    "        prob_h_given_v = torch.sigmoid(h_activation)\n",
    "        return prob_h_given_v, torch.bernoulli(prob_h_given_v)\n",
    "    \n",
    "    def sample_visible(self, hidden_prob):\n",
    "        weight_hidden = torch.mm(hidden_prob, self.weight)\n",
    "        v_activation = weight_hidden + self.visible_bias.expand_as(weight_hidden)\n",
    "        prob_v_given_h = torch.sigmoid(v_activation)\n",
    "        return prob_v_given_h, torch.bernoulli(prob_v_given_h)\n",
    "    \n",
    "    def contrastive_divergence(self, input_data):\n",
    "        # Positive phase\n",
    "        \n",
    "        # Negative phase\n",
    "        \n",
    "        # Update parameters\n",
    "        \n",
    "        # Compute reconstruction error\n",
    "        k_visible = training_set[id_user:id_user+batch_size]\n",
    "        visible = training_set[id_user:id_user+batch_size]\n",
    "        prob_hidden,_ = rbm.sample_hidden(visible)\n",
    "        \n",
    "        for k in range(10):\n",
    "            _,k_hidden = rbm.sample_hidden(k_visible)\n",
    "            _,k_visible = rbm.sample_visible(k_hidden)\n",
    "            k_visible[visible<0] = visible[visible<0]\n",
    "            \n",
    "        k_prob_hidden,_ = rbm.sample_hidden(k_visible)\n",
    "        rbm.train(visible, k_visible, prob_hidden, k_prob_hidden)   \n",
    "        pass\n",
    "\n",
    "    def train(self, input_data):\n",
    "        batch_size = input_data.size(0)\n",
    "        # positive CD phase\n",
    "        \n",
    "        \n",
    "        # negative CD phase,k-step\n",
    "        for k in range(self.k):\n",
    "            _,k_hidden = self.sample_hidden(k_visible)\n",
    "            _,k_visible = self.sample_visible(k_hidden)\n",
    "            k_visible[visible<0] = visible[visible<0]\n",
    "        k_prob_hidden,_ = rbm.sample_hidden(k_visible)\n",
    "        rbm.train(visible, k_visible, prob_hidden, k_prob_hidden)\n",
    "        \n",
    "        vh = torch.mm(visible.t(), prob_hidden)\n",
    "        kvh = torch.mm(k_visible.t(), k_prob_hidden)\n",
    "        b = vh-kvh\n",
    "        self.weight += b.t()\n",
    "        self.visible_bias += torch.sum((visible - k_visible), dim=0)\n",
    "        self.hidden_bias += torch.sum((prob_hidden - k_prob_hidden), dim=0)\n",
    "        \n",
    "        \n",
    "        \n",
    "    def forward(input_data):\n",
    "        return self.sample_hidden(input_data)\n"
   ]
  },
  {
   "cell_type": "code",
   "execution_count": null,
   "metadata": {},
   "outputs": [],
   "source": []
  },
  {
   "cell_type": "code",
   "execution_count": null,
   "metadata": {},
   "outputs": [],
   "source": [
    "# save model\n",
    "torch.save(RBM,'mymodel.pkl')\n",
    "\n",
    "# load model\n",
    "RBM =torch.load('mymodel.pkl')"
   ]
  }
 ],
 "metadata": {
  "kernelspec": {
   "display_name": "Python 3",
   "language": "python",
   "name": "python3"
  },
  "language_info": {
   "codemirror_mode": {
    "name": "ipython",
    "version": 3
   },
   "file_extension": ".py",
   "mimetype": "text/x-python",
   "name": "python",
   "nbconvert_exporter": "python",
   "pygments_lexer": "ipython3",
   "version": "3.7.1"
  }
 },
 "nbformat": 4,
 "nbformat_minor": 2
}
