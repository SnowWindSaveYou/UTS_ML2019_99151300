{
 "cells": [
  {
   "cell_type": "code",
   "execution_count": 1,
   "metadata": {},
   "outputs": [],
   "source": [
    "import numpy as np\n",
    "import pandas as pd\n",
    "from sklearn.metrics.pairwise import cosine_similarity, pairwise_distances\n",
    "from sklearn.metrics import mean_squared_error\n",
    "from math import sqrt\n"
   ]
  },
  {
   "cell_type": "code",
   "execution_count": 2,
   "metadata": {},
   "outputs": [
    {
     "name": "stdout",
     "output_type": "stream",
     "text": [
      "shape:  (131098, 4499)\n",
      "shape:  (14566, 4499)\n"
     ]
    }
   ],
   "source": [
    "train_data_matrix = np.loadtxt(\"./dataset/sprase_train_2.txt\") \n",
    "print(\"shape: \",train_data_matrix.shape)\n",
    "\n",
    "test_data_matrix = np.loadtxt(\"./dataset/sprase_test_2.txt\") \n",
    "print(\"shape: \",test_data_matrix.shape)"
   ]
  },
  {
   "cell_type": "markdown",
   "metadata": {},
   "source": [
    "# Similarity basd Collaborative Filter System\n",
    "\n"
   ]
  },
  {
   "cell_type": "code",
   "execution_count": 3,
   "metadata": {},
   "outputs": [],
   "source": [
    "def get_union(vector1,vector2):\n",
    "    new_vector1 = vector1[(vector1!=0 )& (vector2 != 0)]\n",
    "    new_vector2 = vector2[(vector1!=0 )& (vector2 != 0)]\n",
    "    return new_vector1,new_vector2"
   ]
  },
  {
   "cell_type": "code",
   "execution_count": 4,
   "metadata": {},
   "outputs": [],
   "source": [
    "def cosine_similarity(vector1, vector2):\n",
    "    new_vector1, new_vector2 = get_union(vector1,vector2)\n",
    "    if len(new_vector1)==0 or len(new_vector2)==0:\n",
    "        return 0\n",
    "    dot_product = (new_vector1*new_vector2).sum()\n",
    "    normA = ((new_vector1)**2).sum()\n",
    "    normB = ((new_vector2)**2).sum()\n",
    "    return round(dot_product / ((normA**0.5)*(normB**0.5)), 2)"
   ]
  },
  {
   "cell_type": "code",
   "execution_count": 5,
   "metadata": {},
   "outputs": [],
   "source": [
    "def pearson_similarity(vector1, vector2):\n",
    "    new_vector1, new_vector2 = get_union(vector1,vector2)\n",
    "    if len(new_vector1)==0 or len(new_vector2)==0:\n",
    "        return 0\n",
    "    new_vector1_mean = new_vector1 - np.mean(new_vector1)\n",
    "    new_vector2_mean = new_vector2 - np.mean(new_vector2)\n",
    "    norm = np.linalg.norm(new_vector1_mean)*np.linalg.norm(new_vector2_mean)\n",
    "    return np.dot(new_vector1_mean,new_vector2_mean)/norm"
   ]
  },
  {
   "cell_type": "code",
   "execution_count": 6,
   "metadata": {},
   "outputs": [],
   "source": [
    "def user_sim(train_data_matrix, algo = \"cosine\"):\n",
    "    user_similarity = np.zeros((train_data_matrix.shape[0], train_data_matrix.shape[0]))\n",
    "    for i, cur in enumerate(user_similarity):\n",
    "        for j,v in enumerate(cur):\n",
    "            if user_similarity[i][j] == 0:\n",
    "                if algo == \"cosine\":\n",
    "                    user_similarity[i][j] = cosine_similarity(train_data_matrix[i], train_data_matrix[j])\n",
    "                else:\n",
    "                    user_similarity[i][j] = pearson_similarity(train_data_matrix[i], train_data_matrix[j])\n",
    "                user_similarity[j][i] = user_similarity[i][j]\n",
    "    print(user_similarity.max(), user_similarity.min())\n",
    "    print (user_similarity.shape)\n",
    "    print(user_similarity)\n",
    "    return user_similarity"
   ]
  },
  {
   "cell_type": "code",
   "execution_count": 7,
   "metadata": {},
   "outputs": [],
   "source": [
    "def item_sim(train_data_matrix, algo = \"cosine\"):\n",
    "    train_data_matrix_t = train_data_matrix.T\n",
    "    \n",
    "    item_similarity = np.zeros((train_data_matrix.shape[1], train_data_matrix.shape[1]))\n",
    "    for i, cur in enumerate(item_similarity):\n",
    "        for j,v in enumerate(cur):\n",
    "            if item_similarity[i][j] == 0:\n",
    "                if algo == \"cosine\":\n",
    "                    item_similarity[i][j] = cosine_similarity(train_data_matrix_t[i], train_data_matrix_t[j])\n",
    "                else:\n",
    "                    item_similarity[i][j] = pearson_similarity(train_data_matrix_t[i], train_data_matrix_t[j])\n",
    "                item_similarity[j][i] = item_similarity[i][j]\n",
    "    print(item_similarity.max(), item_similarity.min())\n",
    "    print (item_similarity.shape)\n",
    "    print(item_similarity)\n",
    "    return item_similarity"
   ]
  },
  {
   "cell_type": "code",
   "execution_count": 8,
   "metadata": {},
   "outputs": [],
   "source": [
    "def predict_user(ratings, similarity):\n",
    "    mean_user_rating = ratings.mean(axis=1)\n",
    "    ratings_diff = (ratings - mean_user_rating[:, np.newaxis])\n",
    "    \n",
    "    pred = mean_user_rating[:, np.newaxis] + similarity.dot(ratings_diff)/np.array([np.abs(similarity).sum(axis=1)]).T\n",
    "    for line in pred:\n",
    "        line[np.isnan(line)] = np.nanmean(line)\n",
    "    return pred"
   ]
  },
  {
   "cell_type": "code",
   "execution_count": 9,
   "metadata": {},
   "outputs": [],
   "source": [
    "def predict_item(ratings, similarity):\n",
    "    pred = ratings.dot(similarity) / np.array([np.abs(similarity).sum(axis=1)])\n",
    "    for line in pred:\n",
    "        line[np.isnan(line)] = np.nanmean(line)\n",
    "    return pred"
   ]
  },
  {
   "cell_type": "code",
   "execution_count": 10,
   "metadata": {},
   "outputs": [],
   "source": [
    "def rmsefun(prediction, ground_truth):\n",
    "    prediction = prediction[ground_truth.nonzero()].flatten()\n",
    "    ground_truth = ground_truth[ground_truth.nonzero()].flatten()\n",
    "    return sqrt(mean_squared_error(prediction, ground_truth))\n",
    "\n",
    "def maefun(prediction, ground_truth):\n",
    "    prediction = prediction[ground_truth.nonzero()].flatten()\n",
    "    ground_truth = ground_truth[ground_truth.nonzero()].flatten()\n",
    "    absError = abs(prediction - ground_truth)\n",
    "    return sum(absError) / len(absError)"
   ]
  },
  {
   "cell_type": "code",
   "execution_count": 11,
   "metadata": {},
   "outputs": [],
   "source": [
    "sp_train_matrix = train_data_matrix[:4499]\n",
    "sp_test_matrix = test_data_matrix[:4499]"
   ]
  },
  {
   "cell_type": "code",
   "execution_count": 12,
   "metadata": {},
   "outputs": [
    {
     "name": "stdout",
     "output_type": "stream",
     "text": [
      "1.0 0.0\n",
      "(4499, 4499)\n",
      "[[1.   0.97 0.93 ... 0.93 0.95 0.96]\n",
      " [0.97 1.   0.96 ... 0.96 0.95 0.95]\n",
      " [0.93 0.96 1.   ... 0.93 0.93 0.95]\n",
      " ...\n",
      " [0.93 0.96 0.93 ... 1.   0.92 0.92]\n",
      " [0.95 0.95 0.93 ... 0.92 1.   0.95]\n",
      " [0.96 0.95 0.95 ... 0.92 0.95 1.  ]]\n"
     ]
    }
   ],
   "source": [
    "user_similarity = user_sim(sp_train_matrix)"
   ]
  },
  {
   "cell_type": "code",
   "execution_count": 13,
   "metadata": {},
   "outputs": [
    {
     "name": "stdout",
     "output_type": "stream",
     "text": [
      "[[ 0.53382661  0.28935212  1.35478952 ...  0.28494171  0.25181243\n",
      "   0.2809621 ]\n",
      " [ 0.28753751  0.04383394  1.11065471 ...  0.03915908  0.00583597\n",
      "   0.03423892]\n",
      " [ 0.40029968  0.15462279  1.21491216 ...  0.1499857   0.11714905\n",
      "   0.14606903]\n",
      " ...\n",
      " [ 0.23867768 -0.00478189  1.0610564  ... -0.00912415 -0.04244602\n",
      "  -0.01317067]\n",
      " [ 0.36171647  0.11843268  1.1864431  ...  0.11406682  0.08119862\n",
      "   0.1103375 ]\n",
      " [ 0.21034627 -0.03500737  1.02895119 ... -0.04043912 -0.07248974\n",
      "  -0.04387082]]\n"
     ]
    }
   ],
   "source": [
    "user_pred = predict_user(sp_train_matrix, user_similarity)\n",
    "print(user_pred)"
   ]
  },
  {
   "cell_type": "code",
   "execution_count": 14,
   "metadata": {},
   "outputs": [
    {
     "data": {
      "text/plain": [
       "(4499, 4499)"
      ]
     },
     "execution_count": 14,
     "metadata": {},
     "output_type": "execute_result"
    }
   ],
   "source": [
    "user_pred.shape"
   ]
  },
  {
   "cell_type": "code",
   "execution_count": 15,
   "metadata": {},
   "outputs": [
    {
     "name": "stdout",
     "output_type": "stream",
     "text": [
      "user-base model RMSE : 2.887\n",
      "user-base model MAE : 2.639\n"
     ]
    }
   ],
   "source": [
    "user_rmse = rmsefun(user_pred, sp_test_matrix) # userbase rmse\n",
    "user_mae = maefun(user_pred, sp_test_matrix) # userbase mae\n",
    "print(\"user-base model RMSE : %.3f\"%(user_rmse))\n",
    "print(\"user-base model MAE : %.3f\"%(user_mae))"
   ]
  },
  {
   "cell_type": "code",
   "execution_count": 16,
   "metadata": {},
   "outputs": [
    {
     "name": "stdout",
     "output_type": "stream",
     "text": [
      "1.0 0.0\n",
      "(4499, 4499)\n",
      "[[1.   0.98 0.95 ... 0.94 0.82 0.98]\n",
      " [0.98 1.   0.98 ... 0.95 0.95 0.99]\n",
      " [0.95 0.98 1.   ... 0.94 0.92 0.94]\n",
      " ...\n",
      " [0.94 0.95 0.94 ... 1.   0.93 0.93]\n",
      " [0.82 0.95 0.92 ... 0.93 1.   0.91]\n",
      " [0.98 0.99 0.94 ... 0.93 0.91 1.  ]]\n"
     ]
    }
   ],
   "source": [
    "item_similarity = item_sim(sp_train_matrix)"
   ]
  },
  {
   "cell_type": "code",
   "execution_count": 17,
   "metadata": {},
   "outputs": [
    {
     "name": "stdout",
     "output_type": "stream",
     "text": [
      "[[0.3863222  0.37036744 0.38037886 ... 0.38559788 0.37399926 0.37246983]\n",
      " [0.13879973 0.13101939 0.13519077 ... 0.13759923 0.13221575 0.13201399]\n",
      " [0.25022545 0.23580179 0.24380928 ... 0.24854951 0.23817976 0.24175168]\n",
      " ...\n",
      " [0.08923463 0.08489892 0.08834521 ... 0.08903017 0.08594317 0.08553445]\n",
      " [0.21392312 0.2054787  0.21302803 ... 0.21340866 0.20746729 0.20685543]\n",
      " [0.05910673 0.055394   0.05795342 ... 0.05848939 0.05606327 0.05607349]]\n"
     ]
    }
   ],
   "source": [
    "item_pred = predict_item(sp_train_matrix, item_similarity)\n",
    "print(item_pred)"
   ]
  },
  {
   "cell_type": "code",
   "execution_count": 18,
   "metadata": {},
   "outputs": [
    {
     "data": {
      "text/plain": [
       "(4499, 4499)"
      ]
     },
     "execution_count": 18,
     "metadata": {},
     "output_type": "execute_result"
    }
   ],
   "source": [
    "item_pred.shape"
   ]
  },
  {
   "cell_type": "code",
   "execution_count": 19,
   "metadata": {},
   "outputs": [
    {
     "name": "stdout",
     "output_type": "stream",
     "text": [
      "item_rmse model RMSE : 3.254\n",
      "item_rmse model MAE : 3.002\n"
     ]
    }
   ],
   "source": [
    "item_rmse = rmsefun(item_pred, sp_train_matrix) # itembase rmse\n",
    "item_mae = maefun(item_pred, sp_train_matrix) # itembase mae\n",
    "print(\"item_rmse model RMSE : %.3f\"%(item_rmse))\n",
    "print(\"item_rmse model MAE : %.3f\"%(item_mae))"
   ]
  },
  {
   "cell_type": "code",
   "execution_count": null,
   "metadata": {},
   "outputs": [],
   "source": []
  },
  {
   "cell_type": "code",
   "execution_count": null,
   "metadata": {},
   "outputs": [],
   "source": []
  },
  {
   "cell_type": "code",
   "execution_count": null,
   "metadata": {},
   "outputs": [],
   "source": [
    "# test_data_matrix = np.loadtxt(\"./dataset/np_matrix_2.txt\") \n",
    "# print(\"shape: \",test_data_matrix.shape)"
   ]
  }
 ],
 "metadata": {
  "kernelspec": {
   "display_name": "Python 3",
   "language": "python",
   "name": "python3"
  },
  "language_info": {
   "codemirror_mode": {
    "name": "ipython",
    "version": 3
   },
   "file_extension": ".py",
   "mimetype": "text/x-python",
   "name": "python",
   "nbconvert_exporter": "python",
   "pygments_lexer": "ipython3",
   "version": "3.7.1"
  }
 },
 "nbformat": 4,
 "nbformat_minor": 2
}
