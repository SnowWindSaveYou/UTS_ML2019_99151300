{
 "cells": [
  {
   "cell_type": "markdown",
   "metadata": {},
   "source": [
    "###### import required files and initial env"
   ]
  },
  {
   "cell_type": "code",
   "execution_count": 467,
   "metadata": {},
   "outputs": [],
   "source": [
    "%matplotlib inline\n",
    "import matplotlib.pyplot as plt\n",
    "from sklearn.metrics.pairwise import cosine_similarity, pairwise_distances\n",
    "from sklearn.metrics import mean_squared_error\n",
    "import warnings\n",
    "import sys\n",
    "import math\n",
    "from imp import reload\n",
    "import numpy as np\n",
    "import pandas as pd\n",
    "import torch\n",
    "import torch.nn as nn\n",
    "import torch.nn.parallel\n",
    "import torch.nn.functional as F\n",
    "import torch.optim as optim\n",
    "import torch.utils.data\n",
    "from torch.autograd import Variable\n",
    "from livelossplot import PlotLosses\n",
    "\n",
    "# A2 codes\n",
    "import A2_codes.data_formater as A2_formater\n",
    "import A2_codes.useritem_loader as A2_dataloader\n",
    "import A2_codes.similarity_model as A2_SIM\n",
    "import A2_codes.matrix_factoriz as A2_MF\n",
    "\n",
    "\n",
    "warnings.filterwarnings('ignore')\n",
    "# device = torch.device(\"cuda\" if torch.cuda.is_available() else \"cpu\")\n",
    "device = torch.device( \"cpu\")"
   ]
  },
  {
   "cell_type": "code",
   "execution_count": null,
   "metadata": {},
   "outputs": [],
   "source": []
  },
  {
   "cell_type": "markdown",
   "metadata": {},
   "source": [
    "# Movie Recommendation Models for Netflix Dataset"
   ]
  },
  {
   "cell_type": "markdown",
   "metadata": {},
   "source": [
    " Jingyi Wu 99151300"
   ]
  },
  {
   "cell_type": "markdown",
   "metadata": {},
   "source": [
    "# Introduction\n"
   ]
  },
  {
   "cell_type": "markdown",
   "metadata": {},
   "source": []
  },
  {
   "cell_type": "markdown",
   "metadata": {},
   "source": [
    "# Exploration\n",
    "\n",
    "Netflix price dataset contains seven files include the ratings of users give to each movie with its date and the movie information include their publish date and name.  Since the initial format of dataset is not suitable for exploring, so my first step is to format it into tubule data for carry out subsequence of data mining and modelling works. "
   ]
  },
  {
   "cell_type": "code",
   "execution_count": 3,
   "metadata": {},
   "outputs": [],
   "source": [
    "df = pd.read_csv('./dataset/netflix-prize-data/combined_data_1.txt', \n",
    "                 header = None, names = ['user', 'rating','date'], \n",
    "                 usecols = [0,1,2])"
   ]
  },
  {
   "cell_type": "code",
   "execution_count": 138,
   "metadata": {},
   "outputs": [],
   "source": [
    "movie_title_df = pd.read_csv('./dataset/netflix-prize-data/movie_titles.csv',\n",
    "                             encoding = \"ISO-8859-1\",\n",
    "                             header = None, names = ['movie','publish', 'title'], \n",
    "                             usecols = [0,1,2])"
   ]
  },
  {
   "cell_type": "code",
   "execution_count": 139,
   "metadata": {},
   "outputs": [
    {
     "data": {
      "text/html": [
       "<div>\n",
       "<style scoped>\n",
       "    .dataframe tbody tr th:only-of-type {\n",
       "        vertical-align: middle;\n",
       "    }\n",
       "\n",
       "    .dataframe tbody tr th {\n",
       "        vertical-align: top;\n",
       "    }\n",
       "\n",
       "    .dataframe thead th {\n",
       "        text-align: right;\n",
       "    }\n",
       "</style>\n",
       "<table border=\"1\" class=\"dataframe\">\n",
       "  <thead>\n",
       "    <tr style=\"text-align: right;\">\n",
       "      <th></th>\n",
       "      <th>user</th>\n",
       "      <th>rating</th>\n",
       "      <th>date</th>\n",
       "    </tr>\n",
       "  </thead>\n",
       "  <tbody>\n",
       "    <tr>\n",
       "      <th>0</th>\n",
       "      <td>1:</td>\n",
       "      <td>NaN</td>\n",
       "      <td>NaN</td>\n",
       "    </tr>\n",
       "    <tr>\n",
       "      <th>1</th>\n",
       "      <td>1488844</td>\n",
       "      <td>3.0</td>\n",
       "      <td>2005-09-06</td>\n",
       "    </tr>\n",
       "    <tr>\n",
       "      <th>2</th>\n",
       "      <td>822109</td>\n",
       "      <td>5.0</td>\n",
       "      <td>2005-05-13</td>\n",
       "    </tr>\n",
       "    <tr>\n",
       "      <th>3</th>\n",
       "      <td>885013</td>\n",
       "      <td>4.0</td>\n",
       "      <td>2005-10-19</td>\n",
       "    </tr>\n",
       "    <tr>\n",
       "      <th>4</th>\n",
       "      <td>30878</td>\n",
       "      <td>4.0</td>\n",
       "      <td>2005-12-26</td>\n",
       "    </tr>\n",
       "  </tbody>\n",
       "</table>\n",
       "</div>"
      ],
      "text/plain": [
       "      user  rating        date\n",
       "0       1:     NaN         NaN\n",
       "1  1488844     3.0  2005-09-06\n",
       "2   822109     5.0  2005-05-13\n",
       "3   885013     4.0  2005-10-19\n",
       "4    30878     4.0  2005-12-26"
      ]
     },
     "execution_count": 139,
     "metadata": {},
     "output_type": "execute_result"
    }
   ],
   "source": [
    "# the user id with empty rating and date is the movie id\n",
    "df.head(5)"
   ]
  },
  {
   "cell_type": "code",
   "execution_count": 140,
   "metadata": {},
   "outputs": [
    {
     "data": {
      "text/html": [
       "<div>\n",
       "<style scoped>\n",
       "    .dataframe tbody tr th:only-of-type {\n",
       "        vertical-align: middle;\n",
       "    }\n",
       "\n",
       "    .dataframe tbody tr th {\n",
       "        vertical-align: top;\n",
       "    }\n",
       "\n",
       "    .dataframe thead th {\n",
       "        text-align: right;\n",
       "    }\n",
       "</style>\n",
       "<table border=\"1\" class=\"dataframe\">\n",
       "  <thead>\n",
       "    <tr style=\"text-align: right;\">\n",
       "      <th></th>\n",
       "      <th>movie</th>\n",
       "      <th>publish</th>\n",
       "      <th>title</th>\n",
       "    </tr>\n",
       "  </thead>\n",
       "  <tbody>\n",
       "    <tr>\n",
       "      <th>0</th>\n",
       "      <td>1</td>\n",
       "      <td>2003.0</td>\n",
       "      <td>Dinosaur Planet</td>\n",
       "    </tr>\n",
       "    <tr>\n",
       "      <th>1</th>\n",
       "      <td>2</td>\n",
       "      <td>2004.0</td>\n",
       "      <td>Isle of Man TT 2004 Review</td>\n",
       "    </tr>\n",
       "    <tr>\n",
       "      <th>2</th>\n",
       "      <td>3</td>\n",
       "      <td>1997.0</td>\n",
       "      <td>Character</td>\n",
       "    </tr>\n",
       "    <tr>\n",
       "      <th>3</th>\n",
       "      <td>4</td>\n",
       "      <td>1994.0</td>\n",
       "      <td>Paula Abdul's Get Up &amp; Dance</td>\n",
       "    </tr>\n",
       "    <tr>\n",
       "      <th>4</th>\n",
       "      <td>5</td>\n",
       "      <td>2004.0</td>\n",
       "      <td>The Rise and Fall of ECW</td>\n",
       "    </tr>\n",
       "  </tbody>\n",
       "</table>\n",
       "</div>"
      ],
      "text/plain": [
       "   movie  publish                         title\n",
       "0      1   2003.0               Dinosaur Planet\n",
       "1      2   2004.0    Isle of Man TT 2004 Review\n",
       "2      3   1997.0                     Character\n",
       "3      4   1994.0  Paula Abdul's Get Up & Dance\n",
       "4      5   2004.0      The Rise and Fall of ECW"
      ]
     },
     "execution_count": 140,
     "metadata": {},
     "output_type": "execute_result"
    }
   ],
   "source": [
    "movie_title_df.head(5)"
   ]
  },
  {
   "cell_type": "code",
   "execution_count": 4,
   "metadata": {},
   "outputs": [],
   "source": [
    "# slice movie by empty rows\n",
    "sliced_df = A2_formater.slice_movie(df)\n",
    "\n",
    "# format data type\n",
    "sliced_df['date']= pd.to_datetime(sliced_df['date'])\n",
    "sliced_df['rating']=sliced_df['rating'].astype(float)\n",
    "sliced_df['movie']=sliced_df['movie'].astype(int)\n",
    "sliced_df['user']=sliced_df['user'].astype(int)"
   ]
  },
  {
   "cell_type": "code",
   "execution_count": 6,
   "metadata": {},
   "outputs": [],
   "source": [
    "movie_title_df['publish'][~(movie_title_df['publish'].isna())].mean()"
   ]
  },
  {
   "cell_type": "code",
   "execution_count": null,
   "metadata": {
    "scrolled": true
   },
   "outputs": [],
   "source": [
    "movie_title_df['movie']=movie_title_df['movie'].astype(int)\n",
    "movie_title_df[movie_title_df['publish'].isna()] = movie_title_df['publish'][~(movie_title_df['publish'].isna())].mean() # fill missing\n",
    "movie_title_df['publish']= pd.to_datetime(movie_title_df['publish'].astype(int), format ='%Y' )\n",
    "combine_df = sliced_df.merge(movie_title_df[['publish','movie']],on='movie')\n",
    "combine_df.head(5)"
   ]
  },
  {
   "cell_type": "code",
   "execution_count": 133,
   "metadata": {},
   "outputs": [
    {
     "name": "stdout",
     "output_type": "stream",
     "text": [
      "Data length:  24053764\n"
     ]
    }
   ],
   "source": [
    "print(\"Data length: \",len(combine_df))"
   ]
  },
  {
   "cell_type": "markdown",
   "metadata": {},
   "source": [
    "After formatted dataset, we got 24053764 count of tabule data, and it contains five attributes: movie id, user id, rating of user give to movie, date of rating record, and movie publish year. "
   ]
  },
  {
   "cell_type": "markdown",
   "metadata": {},
   "source": [
    "------------------------\n",
    "### user\n",
    "- Type: Numeric categories\n",
    "\n",
    "The id of users, after drop duplicates we can seen that dataset contains 470758 different users. most users are rated 10~50 movies, only few of them had rating over 2000 movies."
   ]
  },
  {
   "cell_type": "code",
   "execution_count": 100,
   "metadata": {},
   "outputs": [
    {
     "name": "stdout",
     "output_type": "stream",
     "text": [
      "Length:  470758\n"
     ]
    },
    {
     "data": {
      "text/plain": [
       "{'whiskers': [<matplotlib.lines.Line2D at 0x2462b2ddeb8>,\n",
       "  <matplotlib.lines.Line2D at 0x2462b2ddf98>],\n",
       " 'caps': [<matplotlib.lines.Line2D at 0x2462b2e7588>,\n",
       "  <matplotlib.lines.Line2D at 0x2462b2e78d0>],\n",
       " 'boxes': [<matplotlib.lines.Line2D at 0x2462b2dda90>],\n",
       " 'medians': [<matplotlib.lines.Line2D at 0x2462b2e7c18>],\n",
       " 'fliers': [<matplotlib.lines.Line2D at 0x2462b2e7f60>],\n",
       " 'means': []}"
      ]
     },
     "execution_count": 100,
     "metadata": {},
     "output_type": "execute_result"
    },
    {
     "data": {
      "image/png": "[encoded data removed]",
      "text/plain": [
       "<Figure size 432x288 with 1 Axes>"
      ]
     },
     "metadata": {
      "needs_background": "light"
     },
     "output_type": "display_data"
    }
   ],
   "source": [
    "users_rating_count = sliced_df.groupby('user')['user'].agg(['count']).reset_index()\n",
    "print(\"Length: \",len(users_rating_count))\n",
    "plt.boxplot(users_rating_count['count'].astype(int))"
   ]
  },
  {
   "cell_type": "code",
   "execution_count": 101,
   "metadata": {},
   "outputs": [
    {
     "name": "stdout",
     "output_type": "stream",
     "text": [
      "         binned   count\n",
      "0        (0, 1]   15225\n",
      "1       (1, 10]  124902\n",
      "2      (10, 50]  184967\n",
      "3     (50, 100]   75394\n",
      "4   (100, 1000]   70185\n",
      "5  (1000, 2000]      73\n",
      "6  (2000, 5000]      12\n"
     ]
    },
    {
     "data": {
      "text/plain": [
       "<BarContainer object of 7 artists>"
      ]
     },
     "execution_count": 101,
     "metadata": {},
     "output_type": "execute_result"
    },
    {
     "data": {
      "image/png": "[encoded data removed]",
      "text/plain": [
       "<Figure size 432x288 with 1 Axes>"
      ]
     },
     "metadata": {
      "needs_background": "light"
     },
     "output_type": "display_data"
    }
   ],
   "source": [
    "bins = [0,1,10,50,100,1000,2000,5000]\n",
    "users_rating_count['binned'] = pd.cut(users_rating_count['count'], bins)\n",
    "user_activity_bin = users_rating_count.groupby('binned')['binned'].agg(['count']).reset_index()\n",
    "print(user_activity_bin)\n",
    "plt.bar(user_activity_bin['binned'].astype(str),user_activity_bin['count'])"
   ]
  },
  {
   "cell_type": "markdown",
   "metadata": {},
   "source": [
    "### movie\n",
    "- Type: Numeric categories\n",
    "\n",
    "The id of movie,  after drop duplicates we can seen that dataset contains 4499 different movie. And this id is formated in a complete ordered sequence from 1 to 4499.And most movies have limite rating records."
   ]
  },
  {
   "cell_type": "code",
   "execution_count": 106,
   "metadata": {},
   "outputs": [
    {
     "name": "stdout",
     "output_type": "stream",
     "text": [
      "Number of moves:  4499\n",
      "[1, 2, 3, 4, 5, 6, 7, 8, 9, 10, 11, 12, 13, 14, 15, 16, 17, 18, 19, 20, 21, 22, 23, 24, 25, 26, 27, 28, 29, 30, 31, 32, 33, 34, 35, 36, 37, 38, 39, 40, 41, 42, 43, 44, 45, 46, 47, 48, 49, 50, 51, 52, 53, 54, 55, 56, 57, 58, 59, 60, 61, 62, 63, 64, 65, 66, 67, 68, 69, 70, 71, 72, 73, 74, 75, 76, 77, 78, 79, 80, 81, 82, 83, 84, 85, 86, 87, 88, 89, 90, 91, 92, 93, 94, 95, 96, 97, 98, 99, 100]\n"
     ]
    },
    {
     "data": {
      "image/png": "[encoded data removed]",
      "text/plain": [
       "<Figure size 432x288 with 1 Axes>"
      ]
     },
     "metadata": {
      "needs_background": "light"
     },
     "output_type": "display_data"
    }
   ],
   "source": [
    "movie_popularity = sliced_df.groupby('movie')['movie'].agg(['count']).reset_index()\n",
    "plt.hist(movie_popularity['count'],bins=[0,100,1000,10000,50000,100000,150000])\n",
    "print(\"Number of moves: \",len(movie_popularity ))\n",
    "print(list(movie_popularity['movie'][:100]))"
   ]
  },
  {
   "cell_type": "markdown",
   "metadata": {},
   "source": [
    "### rating\n",
    "- Type: Numeric ordinal\n",
    "- Value range: 1,2,3,4,5\n",
    "\n",
    "The rating of user give to the movie, most values are around 4, and only few values are rating one. "
   ]
  },
  {
   "cell_type": "code",
   "execution_count": 79,
   "metadata": {},
   "outputs": [
    {
     "name": "stdout",
     "output_type": "stream",
     "text": [
      "rating min:  1.0  max:  5.0  mode:  0    4.0\n",
      "dtype: float64\n"
     ]
    }
   ],
   "source": [
    "print(\"rating min: \",sliced_df['rating'].min(),\" max: \",sliced_df['rating'].max(),\" mode: \", sliced_df['rating'].mode())"
   ]
  },
  {
   "cell_type": "code",
   "execution_count": 75,
   "metadata": {},
   "outputs": [
    {
     "name": "stdout",
     "output_type": "stream",
     "text": [
      "   rating    count\n",
      "0     1.0  1118186\n",
      "1     2.0  2439073\n",
      "2     3.0  6904181\n",
      "3     4.0  8085741\n",
      "4     5.0  5506583\n"
     ]
    },
    {
     "data": {
      "text/plain": [
       "<BarContainer object of 5 artists>"
      ]
     },
     "execution_count": 75,
     "metadata": {},
     "output_type": "execute_result"
    },
    {
     "data": {
      "image/png": "[encoded data removed]",
      "text/plain": [
       "<Figure size 432x288 with 1 Axes>"
      ]
     },
     "metadata": {
      "needs_background": "light"
     },
     "output_type": "display_data"
    }
   ],
   "source": [
    "rating_distr = sliced_df.groupby('rating')['rating'].agg(['count']).reset_index()\n",
    "print(rating_distr)\n",
    "plt.bar(rating_distr[\"rating\"],rating_distr[\"count\"])"
   ]
  },
  {
   "cell_type": "markdown",
   "metadata": {},
   "source": [
    "### date\n",
    "- Type: Ordinal Date\n",
    "- Value range: 1999-11-11 ~ 2005-12-31\n",
    "\n",
    "The timestamp of the user rating the movie. along with the time progresses, the rating data have rapid growth"
   ]
  },
  {
   "cell_type": "code",
   "execution_count": 80,
   "metadata": {},
   "outputs": [
    {
     "name": "stdout",
     "output_type": "stream",
     "text": [
      "date min:  1999-11-11 00:00:00  max:  2005-12-31 00:00:00\n"
     ]
    }
   ],
   "source": [
    "print(\"date min: \",sliced_df['date'].min(),\" max: \",sliced_df['date'].max())"
   ]
  },
  {
   "cell_type": "code",
   "execution_count": 99,
   "metadata": {},
   "outputs": [
    {
     "data": {
      "text/plain": [
       "<matplotlib.axes._subplots.AxesSubplot at 0x2462b243668>"
      ]
     },
     "execution_count": 99,
     "metadata": {},
     "output_type": "execute_result"
    },
    {
     "data": {
      "image/png": "[encoded data removed]",
      "text/plain": [
       "<Figure size 432x288 with 1 Axes>"
      ]
     },
     "metadata": {
      "needs_background": "light"
     },
     "output_type": "display_data"
    }
   ],
   "source": [
    "date_distr = sliced_df.groupby('date')['date'].agg(['count']).reset_index().set_index('date')\n",
    "date_distr.plot()"
   ]
  },
  {
   "cell_type": "markdown",
   "metadata": {},
   "source": [
    "### publish\n",
    "- Type: Ordinal Date\n",
    "- Value range: 1915-01-01 ~ 2005-01-01\n",
    "\n",
    "The movie publish time, it shows most movies in dataset are close to the time of dataset published, and new movies rapidly increase by year."
   ]
  },
  {
   "cell_type": "code",
   "execution_count": 148,
   "metadata": {},
   "outputs": [
    {
     "name": "stdout",
     "output_type": "stream",
     "text": [
      "publish min:  1915-01-01 00:00:00  max:  2005-01-01 00:00:00\n"
     ]
    }
   ],
   "source": [
    "print(\"publish min: \",combine_df.min(),\" max: \",combine_df['publish'].max())"
   ]
  },
  {
   "cell_type": "code",
   "execution_count": 155,
   "metadata": {
    "scrolled": true
   },
   "outputs": [
    {
     "data": {
      "image/png": "[encoded data removed]",
      "text/plain": [
       "<Figure size 432x288 with 1 Axes>"
      ]
     },
     "metadata": {
      "needs_background": "light"
     },
     "output_type": "display_data"
    }
   ],
   "source": [
    "publish_distr = combine_df.groupby('publish')['publish'].agg(['count']).reset_index().set_index('publish')\n",
    "publish_distr.plot()\n",
    "plt.show()"
   ]
  },
  {
   "cell_type": "markdown",
   "metadata": {},
   "source": [
    "### Sparse  matrix\n",
    "\n",
    "Overall, the user-movie rating data is an matrix like `[user ,[movie ,[rating, ]]]`, each row of it is represents a user, each column represents a movie, and the each corresponding element is represent the rating of user give to movie. Since that sparse matrix have a very high dimension due to large number of users and movies, it brings the of challenge on memory cost."
   ]
  },
  {
   "cell_type": "code",
   "execution_count": null,
   "metadata": {},
   "outputs": [],
   "source": [
    "## imposible to put all data into memoty by one matrix\n",
    "# full_data_sprase_matrix = A2_formater.make_sprase_matrix(sliced_df[:],4499) # Memory Error"
   ]
  },
  {
   "cell_type": "code",
   "execution_count": 201,
   "metadata": {},
   "outputs": [
    {
     "name": "stdout",
     "output_type": "stream",
     "text": [
      "[[3. 0. 0. ... 0. 0. 0.]\n",
      " [5. 0. 0. ... 0. 0. 0.]\n",
      " [4. 0. 0. ... 0. 0. 0.]\n",
      " ...\n",
      " [0. 0. 0. ... 0. 0. 0.]\n",
      " [0. 0. 0. ... 0. 0. 0.]\n",
      " [0. 0. 0. ... 0. 0. 0.]]\n",
      "memory cost for 4499 x 4499 sparse matrix: 156889240 byte = 149 mb\n",
      "memory cost for full data sparse matrix: 838803457012 byte = 799945 mb\n"
     ]
    }
   ],
   "source": [
    "## so, just use part of data for explore the sparsity and calculate full cost\n",
    "sparse_matrix = A2_formater.make_sparse_matrix(sliced_df[:4499],4499)\n",
    "memory_cost = sys.getsizeof(sparse_matrix)\n",
    "full_memory_cost = memory_cost/4499*len(sliced_df)\n",
    "def byte_to_mb(b):\n",
    "    return b / 1024/1024\n",
    "print(sparse_matrix)\n",
    "print(\"memory cost for 4499 x 4499 sparse matrix: %d byte = %d mb\"%(memory_cost,byte_to_mb(memory_cost)))\n",
    "print(\"memory cost for full data sparse matrix: %d byte = %d mb\"%(full_memory_cost,byte_to_mb(full_memory_cost)))"
   ]
  },
  {
   "cell_type": "markdown",
   "metadata": {},
   "source": [
    "while, althrough that matrix are very large, but due to the user is impossible to give all movie the rating, so the most location in that matrix are 0, which means its a sparse matrix,\n",
    "by samples part of data for measure the sparsity of Netflix data, it shows 0.02% sparsity , which means 99.98% space in that matrix are 0."
   ]
  },
  {
   "cell_type": "code",
   "execution_count": 202,
   "metadata": {},
   "outputs": [
    {
     "name": "stdout",
     "output_type": "stream",
     "text": [
      "Sparsity: 0.02%\n"
     ]
    }
   ],
   "source": [
    "sparsity = float(len(sprase_matrix.nonzero()[0]))\n",
    "sparsity /= (sparse_matrix.shape[0] * sparse_matrix.shape[1])\n",
    "sparsity *= 100\n",
    "print ('Sparsity: {:4.2f}%'.format(sparsity))"
   ]
  },
  {
   "cell_type": "markdown",
   "metadata": {},
   "source": [
    "### Clean\n",
    "\n",
    "Since the low activate users are useless for training model, I filtered the user have rated movies lower than 50. And for evaluate the models I will explain in next section, I decided to split the data set into three sets.\n",
    "\n",
    "- Train: include most data except the data in test set.\n",
    "- Test: randomly choose 1/10 users, and split their data by time '2005/12/1', so that dataset have include 1/10 users without data after '2005/12/1'.\n",
    "- Target: target is the full data of test data, it include full data of 1/10 users chosen by test set\n",
    "\n",
    "This split way allows me can evaluate the accuracy of model predict the rating of users would give to the items they were not seen before, at same time allows me can choose small or large amount of data to evaluate models."
   ]
  },
  {
   "cell_type": "code",
   "execution_count": 54,
   "metadata": {},
   "outputs": [],
   "source": [
    "users_df = A2_formater.get_users_df(sliced_df)"
   ]
  },
  {
   "cell_type": "code",
   "execution_count": null,
   "metadata": {},
   "outputs": [],
   "source": [
    "# split data only by user id\n",
    "# train_set, test_set = filter_data_by_user(sliced_df,users_df,frac=0.1,count=50)"
   ]
  },
  {
   "cell_type": "code",
   "execution_count": null,
   "metadata": {},
   "outputs": [],
   "source": [
    "#split data by date and user id\n",
    "train_set, test_set, target_set = A2_formater.filter_data_by_date(sliced_df,users_df)\n",
    "target_set = target_set[target_set['user'].isin(test_set['user'])]"
   ]
  },
  {
   "cell_type": "code",
   "execution_count": 78,
   "metadata": {},
   "outputs": [
    {
     "name": "stdout",
     "output_type": "stream",
     "text": [
      "num_users:  145643 num_items:  4499\n"
     ]
    }
   ],
   "source": [
    "# makeup data\n",
    "total_ratings,user_item_pairs,ratings,num_users,num_items,user_lists = A2_dataloader.prepro(train_set)\n",
    "total_ratings_test,user_item_pairs_test,ratings_test = A2_dataloader.prepro(test_set,user_lists)\n",
    "# make dataset \n",
    "train_dataset = A2_dataloader.UserItemDataset(user_item_pairs,ratings)\n",
    "test_dataset = A2_dataloader.UserItemDataset(user_item_pairs_test,ratings_test)"
   ]
  },
  {
   "cell_type": "code",
   "execution_count": 92,
   "metadata": {},
   "outputs": [],
   "source": [
    "# make data loader\n",
    "sample_params = {'batch_size': 1024,'shuffle': True,'num_workers': 0}\n",
    "train_generator = torch.utils.data.DataLoader(train_dataset, **sample_params)\n",
    "test_generator = torch.utils.data.DataLoader(test_dataset, **sample_params)\n",
    "train_iter = iter(train_generator)\n",
    "test_iter = iter(test_generator)"
   ]
  },
  {
   "cell_type": "markdown",
   "metadata": {},
   "source": [
    "# Methodology\n",
    "\n",
    "The formal recommendation system have two main ways, one is content based system that use the   tags of items and historical preference of user to recommend the item have same tags as user browsed before, but those kind of system have the problem of over-specialization that can only find known preference while can't find potential preference, and easy to make other problem of information cocoon. (Adomavicius & Tuzhilin 2005) So, for solve the problem of information overload I think that collaborative filter based systems are more appropriated, those kind of methods make recommendation by sharing information between user or items, main idea of them are make recommendation by find other users have same preference.  in this case, I also identifier movie recommendation problem as a rating prediction problem, in this section I had built the models can predict the rating of user would give to item by input or modelling the existing user-movie data."
   ]
  },
  {
   "cell_type": "markdown",
   "metadata": {},
   "source": [
    "## Item-based and User-based Similarity Models\n",
    "As the fundamental of the collaborative filtering methods, the item-based and user-based similarity models can be the good baseline when evaluate other models. those two are both the memory based collaborative filtering methods, they are measure the similarity of users and items by cosine, Pearson or other correlation coefficient matric to make a matrix record the similarity between users or items.\n",
    "\n",
    "since the memory based model requires very large memory space, i only use 5156 users\\' data for make similarity matrix. "
   ]
  },
  {
   "cell_type": "code",
   "execution_count": 444,
   "metadata": {},
   "outputs": [
    {
     "name": "stdout",
     "output_type": "stream",
     "text": [
      "Train matrix: (5156, 4499)\n",
      "Test matrix: (5156, 4499)\n"
     ]
    }
   ],
   "source": [
    "# use small amount of data to make matrix\n",
    "# train_matrix = A2_formater.make_sparse_matrix(test_set,4499)\n",
    "test_matrix = A2_formater.make_sparse_matrix(target_set,4499)\n",
    "print(\"Train matrix:\",train_matrix.shape)\n",
    "print(\"Test matrix:\",test_matrix.shape)"
   ]
  },
  {
   "cell_type": "code",
   "execution_count": null,
   "metadata": {},
   "outputs": [],
   "source": [
    "def get_union(vector1,vector2):\n",
    "    new_vector1 = vector1[(vector1!=0 )& (vector2 != 0)]\n",
    "    new_vector2 = vector2[(vector1!=0 )& (vector2 != 0)]\n",
    "    return new_vector1,new_vector2"
   ]
  },
  {
   "cell_type": "markdown",
   "metadata": {},
   "source": [
    "Cosine Similarity: \n",
    "\n",
    "$W_{u, v}=\\frac{|N(u) \\cap N(v)|}{\\sqrt{|N(u)||N(v)|}}$"
   ]
  },
  {
   "cell_type": "code",
   "execution_count": null,
   "metadata": {},
   "outputs": [],
   "source": [
    "def cosine_similarity(vector1, vector2):\n",
    "    new_vector1, new_vector2 = get_union(vector1,vector2)\n",
    "    if len(new_vector1)==0 or len(new_vector2)==0:\n",
    "        return 0\n",
    "    dot_product = (new_vector1*new_vector2).sum()\n",
    "    normA = ((new_vector1)**2).sum()\n",
    "    normB = ((new_vector2)**2).sum()\n",
    "    return round(dot_product / ((normA**0.5)*(normB**0.5)), 2)"
   ]
  },
  {
   "cell_type": "markdown",
   "metadata": {},
   "source": [
    "Pearson Correlation Coefficient: \n",
    "\n",
    "$r=\\frac{\\sum_{i=1}^{n}\\left(X_{i}-\\overline{X}\\right)\\left(Y_{i}-\\overline{Y}\\right)}{\\sqrt{\\sum_{i=1}^{n}\\left(X_{i}-\\overline{X}\\right)^{2}} \\sqrt{\\sum_{i=1}^{n}\\left(Y_{i}-\\overline{Y}\\right)^{2}}}$"
   ]
  },
  {
   "cell_type": "code",
   "execution_count": 452,
   "metadata": {},
   "outputs": [],
   "source": [
    "def pearson_similarity(vector1, vector2):\n",
    "    new_vector1, new_vector2 = get_union(vector1,vector2)\n",
    "    if len(new_vector1)==0 or len(new_vector2)==0:\n",
    "        return 0\n",
    "    new_vector1_mean = new_vector1 - np.mean(new_vector1)\n",
    "    new_vector2_mean = new_vector2 - np.mean(new_vector2)\n",
    "    norm = np.linalg.norm(new_vector1_mean)*np.linalg.norm(new_vector2_mean)\n",
    "    return np.dot(new_vector1_mean,new_vector2_mean)/norm"
   ]
  },
  {
   "cell_type": "code",
   "execution_count": 453,
   "metadata": {},
   "outputs": [],
   "source": [
    "def user_sim(train_data_matrix, algo = \"cosine\"):\n",
    "    user_similarity = np.zeros((train_data_matrix.shape[0], train_data_matrix.shape[0]))\n",
    "    for i, cur in enumerate(user_similarity):\n",
    "        for j,v in enumerate(cur):\n",
    "            if user_similarity[i][j] == 0:\n",
    "                if algo == \"cosine\":\n",
    "                    user_similarity[i][j] = cosine_similarity(train_data_matrix[i], train_data_matrix[j])\n",
    "                else:\n",
    "                    user_similarity[i][j] = pearson_similarity(train_data_matrix[i], train_data_matrix[j])\n",
    "                user_similarity[j][i] = user_similarity[i][j]\n",
    "    return user_similarity\n",
    "\n",
    "def item_sim(train_data_matrix, algo = \"cosine\"):\n",
    "    train_data_matrix_t = train_data_matrix.T\n",
    "    item_similarity = np.zeros((train_data_matrix.shape[1], train_data_matrix.shape[1]))\n",
    "    for i, cur in enumerate(item_similarity):\n",
    "        for j,v in enumerate(cur):\n",
    "            if item_similarity[i][j] == 0:\n",
    "                if algo == \"cosine\":\n",
    "                    item_similarity[i][j] = cosine_similarity(train_data_matrix_t[i], train_data_matrix_t[j])\n",
    "                else:\n",
    "                    item_similarity[i][j] = pearson_similarity(train_data_matrix_t[i], train_data_matrix_t[j])\n",
    "                item_similarity[j][i] = item_similarity[i][j]\n",
    "    return item_similarity"
   ]
  },
  {
   "cell_type": "code",
   "execution_count": 450,
   "metadata": {},
   "outputs": [
    {
     "name": "stdout",
     "output_type": "stream",
     "text": [
      "1.0 0.0\n",
      "(5156, 5156)\n",
      "[[1. 0. 0. ... 0. 0. 1.]\n",
      " [0. 1. 0. ... 0. 1. 1.]\n",
      " [0. 0. 1. ... 0. 0. 0.]\n",
      " ...\n",
      " [0. 0. 0. ... 1. 0. 0.]\n",
      " [0. 1. 0. ... 0. 1. 0.]\n",
      " [1. 1. 0. ... 0. 0. 1.]]\n"
     ]
    }
   ],
   "source": [
    "user_similarity = A2_SIM.user_sim(train_matrix)"
   ]
  },
  {
   "cell_type": "code",
   "execution_count": 451,
   "metadata": {},
   "outputs": [
    {
     "name": "stdout",
     "output_type": "stream",
     "text": [
      "1.0 0.0\n",
      "(4499, 4499)\n",
      "[[1. 0. 0. ... 0. 0. 0.]\n",
      " [0. 0. 0. ... 0. 0. 0.]\n",
      " [0. 0. 0. ... 0. 0. 0.]\n",
      " ...\n",
      " [0. 0. 0. ... 1. 0. 0.]\n",
      " [0. 0. 0. ... 0. 0. 0.]\n",
      " [0. 0. 0. ... 0. 0. 0.]]\n"
     ]
    }
   ],
   "source": [
    "item_similarity = A2_SIM.item_sim(train_matrix)"
   ]
  },
  {
   "cell_type": "markdown",
   "metadata": {},
   "source": [
    "## Matrix Factorization"
   ]
  },
  {
   "cell_type": "code",
   "execution_count": 471,
   "metadata": {},
   "outputs": [],
   "source": [
    "class MF(torch.nn.Module):\n",
    "    def __init__(self, num_users, num_items,latent_dim=8,h = 512):\n",
    "        super(MF, self).__init__()\n",
    "        self.num_users = num_users\n",
    "        self.num_items = num_items\n",
    "        self.latent_dim = latent_dim\n",
    "        self.h = h\n",
    "\n",
    "        self.embedding_user = torch.nn.Embedding(num_embeddings=self.num_users, embedding_dim=self.latent_dim,sparse=True)\n",
    "        self.embedding_item = torch.nn.Embedding(num_embeddings=self.num_items, embedding_dim=self.latent_dim,sparse=True)\n",
    "        self.user_fc = nn.Linear(in_features=self.latent_dim, out_features=self.h, bias=True)\n",
    "        self.item_fc = nn.Linear(in_features=self.latent_dim, out_features=self.h, bias=True)\n",
    "    \n",
    "        self.fc = nn.Linear(in_features=self.h, out_features=1, bias=True)\n",
    "    \n",
    "        \n",
    "    def forward(self, user_indices, item_indices):\n",
    "        user_embedding = F.relu(self.user_fc(self.embedding_user(user_indices)))\n",
    "        item_embedding = F.relu(self.item_fc(self.embedding_item(item_indices)))\n",
    "        \n",
    "        return F.relu(self.fc(user_embedding * item_embedding))"
   ]
  },
  {
   "cell_type": "code",
   "execution_count": 329,
   "metadata": {},
   "outputs": [],
   "source": [
    "class MLP(torch.nn.Module):\n",
    "    def __init__(self, num_users, num_items,latent_dim=8,layers = [16,32,16,8]):\n",
    "        super(MLP, self).__init__()\n",
    "        self.num_users = num_users\n",
    "        self.num_items = num_items\n",
    "        self.latent_dim = latent_dim\n",
    "\n",
    "        self.embedding_user = torch.nn.Embedding(num_embeddings=self.num_users, embedding_dim=self.latent_dim)\n",
    "        self.embedding_item = torch.nn.Embedding(num_embeddings=self.num_items, embedding_dim=self.latent_dim)\n",
    "\n",
    "        self.fc_layers = torch.nn.ModuleList()\n",
    "        for idx, (in_size, out_size) in enumerate(zip(layers[:-1], layers[1:])):\n",
    "            self.fc_layers.append(torch.nn.Linear(in_size, out_size))\n",
    "        self.affine_output = torch.nn.Linear(in_features=layers[-1], out_features=1)\n",
    "        \n",
    "    def forward(self, user_indices, item_indices):\n",
    "        user_embedding = self.embedding_user(user_indices)\n",
    "        item_embedding = self.embedding_item(item_indices)\n",
    "        \n",
    "        vector = torch.cat([user_embedding, item_embedding], dim=-1)\n",
    "        for idx, _ in enumerate(range(len(self.fc_layers))):\n",
    "            vector = self.fc_layers[idx](vector)\n",
    "            vector = torch.nn.ReLU()(vector)\n",
    "            \n",
    "        out = self.affine_output(vector)\n",
    "        return out\n"
   ]
  },
  {
   "cell_type": "code",
   "execution_count": 341,
   "metadata": {},
   "outputs": [],
   "source": [
    "# Basic MF model\n",
    "MF_model = MF(num_users+1,num_items+1).to(device)\n",
    "MF_opt = optim.SGD(MF_model.parameters(), lr=0.001)\n",
    "MF_criterion = torch.nn.MSELoss()"
   ]
  },
  {
   "cell_type": "code",
   "execution_count": 342,
   "metadata": {},
   "outputs": [],
   "source": [
    "# MLP based model\n",
    "MLP_model = MLP(num_users+1,num_items+1).to(device)\n",
    "MLP_opt = optim.SGD(MLP_model.parameters(), lr=0.001)\n",
    "MLP_criterion = torch.nn.MSELoss()"
   ]
  },
  {
   "cell_type": "code",
   "execution_count": 343,
   "metadata": {},
   "outputs": [],
   "source": [
    "# eval data\n",
    "testab = test_iter.next()"
   ]
  },
  {
   "cell_type": "code",
   "execution_count": 369,
   "metadata": {},
   "outputs": [
    {
     "data": {
      "text/plain": [
       "tensor([[ 19301,   3579,      0,  ...,      0,      0,      0],\n",
       "        [ 99686,    528,      0,  ...,      0,      0,      0],\n",
       "        [103430,   3451,      0,  ...,      0,      0,      0],\n",
       "        ...,\n",
       "        [ 15362,   2391,      0,  ...,      0,      0,      0],\n",
       "        [100565,    872,      0,  ...,      0,      0,      0],\n",
       "        [ 49296,   3860,      0,  ...,      0,      0,      0]],\n",
       "       dtype=torch.int32)"
      ]
     },
     "execution_count": 369,
     "metadata": {},
     "output_type": "execute_result"
    }
   ],
   "source": [
    "testab[0]"
   ]
  },
  {
   "cell_type": "code",
   "execution_count": 348,
   "metadata": {
    "scrolled": false
   },
   "outputs": [
    {
     "data": {
      "image/png": "[encoded data removed]",
      "text/plain": [
       "<Figure size 864x576 with 2 Axes>"
      ]
     },
     "metadata": {
      "needs_background": "light"
     },
     "output_type": "display_data"
    },
    {
     "name": "stdout",
     "output_type": "stream",
     "text": [
      "mf:\n",
      "training   (min:    1.595, max:   11.169, cur:    1.647)\n",
      "validation (min:    1.612, max:   11.645, cur:    1.612)\n",
      "\n",
      "mlpmf:\n",
      "training   (min:    1.120, max:   13.726, cur:    1.157)\n",
      "validation (min:    1.164, max:   14.069, cur:    1.164)\n"
     ]
    }
   ],
   "source": [
    "liveloss = PlotLosses()\n",
    "mftrain,mlptrain, = A2_MF.epoch_run_2(MF_model,MLP_model, train_generator, testab, MF_opt, MLP_opt,MF_criterion,MLP_criterion,liveloss)"
   ]
  },
  {
   "cell_type": "code",
   "execution_count": 420,
   "metadata": {},
   "outputs": [],
   "source": [
    "# save models\n",
    "# torch.save(MF_model.state_dict(), './models/MF_model_1.pkl')\n",
    "# torch.save(MLP_model.state_dict(), './models/MLP_model_5.pkl')"
   ]
  },
  {
   "cell_type": "code",
   "execution_count": 482,
   "metadata": {},
   "outputs": [
    {
     "data": {
      "text/plain": [
       "<module 'A2_codes.matrix_factoriz' from 'C:\\\\Users\\\\Administrator\\\\Desktop\\\\workspace\\\\UTS_ML2019_99151300\\\\A2_codes\\\\matrix_factoriz.py'>"
      ]
     },
     "execution_count": 482,
     "metadata": {},
     "output_type": "execute_result"
    }
   ],
   "source": [
    "import A2_codes.matrix_factoriz as A2_MF\n",
    "reload(A2_MF )"
   ]
  },
  {
   "cell_type": "code",
   "execution_count": 417,
   "metadata": {},
   "outputs": [
    {
     "data": {
      "text/plain": [
       "5135"
      ]
     },
     "execution_count": 417,
     "metadata": {},
     "output_type": "execute_result"
    }
   ],
   "source": [
    "# mlp_pairs[mlp_pairs[:,0]==103430]\n",
    "len(test_user_ids)"
   ]
  },
  {
   "cell_type": "code",
   "execution_count": 396,
   "metadata": {},
   "outputs": [
    {
     "data": {
      "text/plain": [
       "tensor([[ 19301.,   3579.],\n",
       "        [ 99686.,    528.],\n",
       "        [103430.,   3451.],\n",
       "        ...,\n",
       "        [ 15362.,   2391.],\n",
       "        [100565.,    872.],\n",
       "        [ 49296.,   3860.]])"
      ]
     },
     "execution_count": 396,
     "metadata": {},
     "output_type": "execute_result"
    }
   ],
   "source": [
    "for user in test_user_ids:\n",
    "    rate_list = mlp_pairs[mlp_pairs[:,0]==user]"
   ]
  },
  {
   "cell_type": "markdown",
   "metadata": {},
   "source": [
    "# Evaluation\n",
    "\n",
    "## Off-line Experimental Setting\n",
    "\n",
    "Since the matrix factorize are work for existing users and items, so the experiment are designed as predict the user rating over time.\n"
   ]
  },
  {
   "cell_type": "markdown",
   "metadata": {},
   "source": [
    "\n",
    "accuracy\n",
    "coverage\n",
    "serendipity\n",
    "real-time\n",
    "### Metrics\n",
    "####    Root mean squared error\n",
    " $\\operatorname { RMSE } =  { \\sqrt{ \\frac{1}{|\\mathcal{T}|}{ \\sum _ { ( u , i ) \\in T } \\left( r _ { u i } - \\hat { r } _ { u i } \\right) ^ { 2 } } }} $"
   ]
  },
  {
   "cell_type": "code",
   "execution_count": 463,
   "metadata": {},
   "outputs": [],
   "source": [
    "def rmse(prediction, ground_truth):\n",
    "    prediction = prediction[ground_truth.nonzero()].flatten()\n",
    "    ground_truth = ground_truth[ground_truth.nonzero()].flatten()\n",
    "    return math.sqrt(mean_squared_error(prediction, ground_truth))"
   ]
  },
  {
   "cell_type": "markdown",
   "metadata": {},
   "source": [
    "####   Mean absolute error\n",
    "$\\mathrm{MAE}=\\frac{1}{|\\mathcal{T}|} \\sum_{(u, i) \\in \\mathcal{T}}\\left|\\hat{r}_{u i}-r_{u i}\\right|$"
   ]
  },
  {
   "cell_type": "code",
   "execution_count": 351,
   "metadata": {},
   "outputs": [],
   "source": [
    "def mae(prediction, ground_truth):\n",
    "    prediction = prediction[ground_truth.nonzero()].flatten()\n",
    "    ground_truth = ground_truth[ground_truth.nonzero()].flatten()\n",
    "    absError = abs(prediction - ground_truth)\n",
    "    return sum(absError) / len(absError)"
   ]
  },
  {
   "cell_type": "markdown",
   "metadata": {},
   "source": [
    "### Item-based and User-based model"
   ]
  },
  {
   "cell_type": "code",
   "execution_count": 458,
   "metadata": {},
   "outputs": [
    {
     "name": "stdout",
     "output_type": "stream",
     "text": [
      "memory cost for 5156 x 5156 user matrix: 212674800 byte = 202 mb\n",
      "memory cost for 4499 x 4499 movie matrix: 161928120 byte = 154 mb\n"
     ]
    }
   ],
   "source": [
    "memory_cost = sys.getsizeof(user_similarity)\n",
    "print(\"memory cost for 5156 x 5156 user matrix: %d byte = %d mb\"%(memory_cost,byte_to_mb(memory_cost)))\n",
    "memory_cost = sys.getsizeof(item_similarity)\n",
    "print(\"memory cost for 4499 x 4499 movie matrix: %d byte = %d mb\"%(memory_cost,byte_to_mb(memory_cost)))"
   ]
  },
  {
   "cell_type": "code",
   "execution_count": 477,
   "metadata": {},
   "outputs": [],
   "source": [
    "user_pred = A2_SIM.predict_user(test_matrix, user_similarity)\n",
    "user_pred_t = A2_SIM.predict_user(train_matrix, user_similarity)"
   ]
  },
  {
   "cell_type": "code",
   "execution_count": 478,
   "metadata": {},
   "outputs": [
    {
     "name": "stdout",
     "output_type": "stream",
     "text": [
      "part user-base model RMSE : 2.682\n",
      "part user-base model MAE : 2.394\n",
      "all user-base model RMSE : 3.576\n",
      "all user-base model MAE : 3.410\n"
     ]
    }
   ],
   "source": [
    "user_rmse = rmse(user_pred, test_matrix) \n",
    "user_mae = mae(user_pred, test_matrix) \n",
    "print(\"part user-base model RMSE : %.3f\"%(user_rmse))\n",
    "print(\"part user-base model MAE : %.3f\"%(user_mae))\n",
    "user_rmse = rmse(user_pred_t, test_matrix) \n",
    "user_mae = mae(user_pred_t, test_matrix) \n",
    "print(\"all user-base model RMSE : %.3f\"%(user_rmse))\n",
    "print(\"all user-base model MAE : %.3f\"%(user_mae))"
   ]
  },
  {
   "cell_type": "code",
   "execution_count": 494,
   "metadata": {},
   "outputs": [],
   "source": [
    "item_pred = A2_SIM.predict_item(test_matrix, item_similarity)\n",
    "item_pred_t = A2_SIM.predict_item(train_matrix, item_similarity)"
   ]
  },
  {
   "cell_type": "code",
   "execution_count": 495,
   "metadata": {},
   "outputs": [
    {
     "name": "stdout",
     "output_type": "stream",
     "text": [
      "part user-base model RMSE : 3.055\n",
      "part user-base model MAE : 2.831\n",
      "all user-base model RMSE : 3.692\n",
      "all user-base model MAE : 3.532\n"
     ]
    }
   ],
   "source": [
    "item_rmse = rmse(item_pred, test_matrix) \n",
    "item_mae = mae(item_pred, test_matrix) \n",
    "print(\"part user-base model RMSE : %.3f\"%(item_rmse))\n",
    "print(\"part user-base model MAE : %.3f\"%(item_mae))\n",
    "item_rmse = rmse(item_pred_t, test_matrix) \n",
    "item_mae = mae(item_pred_t, test_matrix) \n",
    "print(\"all user-base model RMSE : %.3f\"%(item_rmse))\n",
    "print(\"all user-base model MAE : %.3f\"%(item_mae))"
   ]
  },
  {
   "cell_type": "markdown",
   "metadata": {},
   "source": [
    "### Matrix Factorization"
   ]
  },
  {
   "cell_type": "code",
   "execution_count": 490,
   "metadata": {
    "scrolled": true
   },
   "outputs": [],
   "source": [
    "mlp_preds,mlp_labels, mlp_pairs = A2_MF.predict(MLP_model, test_generator)  \n",
    "mlp_preds = mlp_preds.view(1, mlp_preds.size()[0]).to(\"cpu\").numpy()[0]\n",
    "mlp_labels = mlp_labels.view(1, mlp_labels.size()[0]).to(\"cpu\").numpy()[0]"
   ]
  },
  {
   "cell_type": "code",
   "execution_count": 493,
   "metadata": {},
   "outputs": [
    {
     "name": "stdout",
     "output_type": "stream",
     "text": [
      "part user-base model RMSE : 1.092\n",
      "part user-base model MAE : 0.892\n"
     ]
    }
   ],
   "source": [
    "mlp_rmse = rmse(mlp_preds, mlp_labels)\n",
    "mlp_mae = mae(mlp_preds, mlp_labels) \n",
    "print(\"part user-base model RMSE : %.3f\"%(mlp_rmse))\n",
    "print(\"part user-base model MAE : %.3f\"%(mlp_mae))"
   ]
  },
  {
   "cell_type": "code",
   "execution_count": 496,
   "metadata": {},
   "outputs": [],
   "source": [
    "mf_preds,mf_labels, mf_pairs = A2_MF.predict(MF_model, test_generator)  \n",
    "mf_preds = mf_preds.view(1, mf_preds.size()[0]).to(\"cpu\").numpy()[0]\n",
    "mf_labels = mf_labels.view(1, mf_labels.size()[0]).to(\"cpu\").numpy()[0]"
   ]
  },
  {
   "cell_type": "code",
   "execution_count": 498,
   "metadata": {
    "scrolled": true
   },
   "outputs": [
    {
     "name": "stdout",
     "output_type": "stream",
     "text": [
      "part user-base model RMSE : 1.293\n",
      "part user-base model MAE : 1.050\n"
     ]
    }
   ],
   "source": [
    "mf_rmse = rmse(mf_preds, mf_labels)\n",
    "mf_mae = mae(mf_preds, mf_labels) \n",
    "print(\"part user-base model RMSE : %.3f\"%(mf_rmse))\n",
    "print(\"part user-base model MAE : %.3f\"%(mf_mae))"
   ]
  },
  {
   "cell_type": "markdown",
   "metadata": {},
   "source": [
    "# Ethical"
   ]
  },
  {
   "cell_type": "code",
   "execution_count": null,
   "metadata": {},
   "outputs": [],
   "source": [
    "privacy\n",
    "\n",
    "spread bad information \n"
   ]
  },
  {
   "cell_type": "markdown",
   "metadata": {},
   "source": [
    "# Conclusion"
   ]
  },
  {
   "cell_type": "code",
   "execution_count": null,
   "metadata": {},
   "outputs": [],
   "source": []
  },
  {
   "cell_type": "markdown",
   "metadata": {},
   "source": [
    "# Rererence\n",
    "\n",
    "He, X., Liao, L., Zhang, H., Nie, L., Hu, X. & Chua, T.-S. 2017, 'Neural collaborative filtering', International World Wide Web Conferences Steering Committee, pp. 173-82.\n",
    "\n",
    "Isinkaye, F., Folajimi, Y. & Ojokoh, B. 2015, 'Recommendation systems: Principles, methods and evaluation', *Egyptian Informatics Journal*, vol. 16, no. 3, pp. 261-73.\n",
    "\n",
    "Koren, Y., Bell, R. & Volinsky, C. 2009, 'Matrix factorization techniques for recommender systems', Computer, no. 8, pp. 30-7.\n",
    "\n",
    "Salakhutdinov, R., Mnih, A. & Hinton, G. 2007, 'Restricted Boltzmann machines for collaborative filtering', *ACM*, pp. 791-8.\n",
    "\n",
    "Su, X. & Khoshgoftaar, T.M. 2009, 'A survey of collaborative filtering techniques', *Advances in artificial intelligence*, vol. 2009.\n",
    "\n",
    "Adomavicius, G. & Tuzhilin, A. 2005, 'Toward the next generation of recommender systems: A survey of the state-of-the-art and possible extensions', *IEEE Transactions on Knowledge & Data Engineering*, no. 6, pp. 734-49.\n"
   ]
  },
  {
   "cell_type": "markdown",
   "metadata": {},
   "source": [
    "# Appendix\n",
    "\n",
    "load and format data: https://github.com/SnowWindSaveYou/UTS_ML2019_99151300/blob/master/A2%20Data%20__init__.ipynb\n",
    "\n",
    "Explore data: https://github.com/SnowWindSaveYou/UTS_ML2019_99151300/blob/master/A2_exploration_and_modeling.ipynb\n",
    "\n",
    "\n",
    "RBM\n",
    "\n",
    "MF "
   ]
  },
  {
   "cell_type": "code",
   "execution_count": null,
   "metadata": {},
   "outputs": [],
   "source": []
  }
 ],
 "metadata": {
  "kernelspec": {
   "display_name": "Python 3",
   "language": "python",
   "name": "python3"
  },
  "language_info": {
   "codemirror_mode": {
    "name": "ipython",
    "version": 3
   },
   "file_extension": ".py",
   "mimetype": "text/x-python",
   "name": "python",
   "nbconvert_exporter": "python",
   "pygments_lexer": "ipython3",
   "version": "3.7.1"
  }
 },
 "nbformat": 4,
 "nbformat_minor": 2
}
