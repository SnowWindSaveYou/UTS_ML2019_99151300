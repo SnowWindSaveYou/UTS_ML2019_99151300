{
 "cells": [
  {
   "cell_type": "code",
   "execution_count": 1,
   "metadata": {},
   "outputs": [],
   "source": [
    "%matplotlib inline\n",
    "import matplotlib.pyplot as plt\n",
    "import numpy as np\n",
    "import pandas as pd"
   ]
  },
  {
   "cell_type": "code",
   "execution_count": 4,
   "metadata": {},
   "outputs": [],
   "source": [
    "# read data and skip 'date' colume\n",
    "df = pd.read_csv('./dataset/netflix-prize-data/combined_data_1.txt', \n",
    "                 header = None, names = ['user', 'rating','date'], \n",
    "                 usecols = [0,1,2])"
   ]
  },
  {
   "cell_type": "code",
   "execution_count": null,
   "metadata": {},
   "outputs": [],
   "source": []
  },
  {
   "cell_type": "code",
   "execution_count": 6,
   "metadata": {},
   "outputs": [],
   "source": [
    "def slice_movie(df):\n",
    "    # find empty rows for slice movies \n",
    "    # dataset using movie id as user name for splite rating of each movies\n",
    "    movies_interval = df[df['rating'].isna()]['user'].reset_index()\n",
    "    movies_interval['index'] = movies_interval['index'].astype(int)\n",
    "    \n",
    "    # create list accroding to movie interval by np\n",
    "    movie_id = 1\n",
    "    movie_np = []\n",
    "    last = None\n",
    "    for i,r in movies_interval.iterrows():\n",
    "        if last != None: \n",
    "            temp = np.full((1,r['index']-last-1), movie_id)\n",
    "            movie_np = np.append(movie_np, temp)\n",
    "            movie_id +=1\n",
    "        last = r['index']\n",
    "    # add last movie\n",
    "    temp = np.full((1,len(df)-last-1), movie_id)\n",
    "    movie_np = np.append(movie_np, temp)\n",
    "    \n",
    "    # removie movie slice row, and combine movie colume\n",
    "    df = df[pd.notnull(df['rating'])]\n",
    "    df['movie'] = movie_np.astype(int)\n",
    "    \n",
    "    return df"
   ]
  },
  {
   "cell_type": "code",
   "execution_count": 7,
   "metadata": {},
   "outputs": [],
   "source": [
    "def get_users_df(df):\n",
    "    # get user list and their rating count\n",
    "    return df.groupby('user')['user'].agg(['count']).reset_index()"
   ]
  },
  {
   "cell_type": "code",
   "execution_count": 40,
   "metadata": {},
   "outputs": [],
   "source": [
    "def filter_data_by_user(df,users_df, frac=0.1,count=50):\n",
    "    # get test users\n",
    "    test_users_df = users_df[users_df['count']>count].sample(frac=frac)\n",
    "    # filter user by rating count\n",
    "    cdf = df.merge(users_df, left_on='user',right_on='user')\n",
    "    cdf = cdf[cdf['count']>count][['user','movie','rating']]\n",
    "    \n",
    "    train_set = cdf[~(cdf['user'].isin(test_users_df['user']))]\n",
    "    test_set = cdf[cdf['user'].isin(test_users_df['user'])]\n",
    "    return train_set, test_set"
   ]
  },
  {
   "cell_type": "code",
   "execution_count": 64,
   "metadata": {},
   "outputs": [],
   "source": [
    "def filter_data_by_date(df,users_df, frac=0.1,count=100,year=2005,month=12,day=15):\n",
    "    # get test users\n",
    "    test_users_df = users_df[users_df['count']>count].sample(frac=frac)\n",
    "    # filter user by rating count\n",
    "    cdf = df.merge(users_df, on='user')\n",
    "    cdf = cdf[cdf['count']>count][['user','movie','rating','date']]\n",
    "    \n",
    "#     train_set = cdf[~(cdf['user'].isin(test_users_df['user'])& (cdf['date']< pd.datetime(year,month,day)))]\n",
    "    test_set = cdf[cdf['user'].isin(test_users_df['user'])& (cdf['date']> pd.datetime(year,month,day))]\n",
    "    target_set = cdf[cdf['user'].isin(test_users_df['user'])]\n",
    "    train_set = cdf[~(cdf.isin(test_set))]\n",
    "    \n",
    "    return train_set, test_set, target_set"
   ]
  },
  {
   "cell_type": "code",
   "execution_count": 9,
   "metadata": {},
   "outputs": [
    {
     "name": "stderr",
     "output_type": "stream",
     "text": [
      "/Users/wujingyi/miniconda3/lib/python3.6/site-packages/ipykernel_launcher.py:23: SettingWithCopyWarning: \n",
      "A value is trying to be set on a copy of a slice from a DataFrame.\n",
      "Try using .loc[row_indexer,col_indexer] = value instead\n",
      "\n",
      "See the caveats in the documentation: http://pandas.pydata.org/pandas-docs/stable/indexing.html#indexing-view-versus-copy\n"
     ]
    }
   ],
   "source": [
    "sliced_df = slice_movie(df)"
   ]
  },
  {
   "cell_type": "code",
   "execution_count": 53,
   "metadata": {},
   "outputs": [],
   "source": [
    "# sliced_df['date']= pd.to_datetime(sliced_df['date'],format=\"%Y/%mm/%dd\")\n",
    "# print(sliced_df['date'][:5])\n",
    "# print(sliced_df[sliced_df['date']> pd.datetime(2005,12,1)])"
   ]
  },
  {
   "cell_type": "code",
   "execution_count": null,
   "metadata": {},
   "outputs": [],
   "source": []
  },
  {
   "cell_type": "code",
   "execution_count": 65,
   "metadata": {},
   "outputs": [
    {
     "name": "stderr",
     "output_type": "stream",
     "text": [
      "/Users/wujingyi/miniconda3/lib/python3.6/site-packages/ipykernel_launcher.py:1: SettingWithCopyWarning: \n",
      "A value is trying to be set on a copy of a slice from a DataFrame.\n",
      "Try using .loc[row_indexer,col_indexer] = value instead\n",
      "\n",
      "See the caveats in the documentation: http://pandas.pydata.org/pandas-docs/stable/indexing.html#indexing-view-versus-copy\n",
      "  \"\"\"Entry point for launching an IPython kernel.\n",
      "/Users/wujingyi/miniconda3/lib/python3.6/site-packages/ipykernel_launcher.py:2: SettingWithCopyWarning: \n",
      "A value is trying to be set on a copy of a slice from a DataFrame.\n",
      "Try using .loc[row_indexer,col_indexer] = value instead\n",
      "\n",
      "See the caveats in the documentation: http://pandas.pydata.org/pandas-docs/stable/indexing.html#indexing-view-versus-copy\n",
      "  \n"
     ]
    },
    {
     "name": "stdout",
     "output_type": "stream",
     "text": [
      "             user  rating       date  movie\n",
      "1         1488844     3.0 2005-09-06      1\n",
      "2          822109     5.0 2005-05-13      1\n",
      "3          885013     4.0 2005-10-19      1\n",
      "4           30878     4.0 2005-12-26      1\n",
      "5          823519     3.0 2004-05-03      1\n",
      "6          893988     3.0 2005-11-17      1\n",
      "7          124105     4.0 2004-08-05      1\n",
      "8         1248029     3.0 2004-04-22      1\n",
      "9         1842128     4.0 2004-05-09      1\n",
      "10        2238063     3.0 2005-05-11      1\n",
      "11        1503895     4.0 2005-05-19      1\n",
      "12        2207774     5.0 2005-06-06      1\n",
      "13        2590061     3.0 2004-08-12      1\n",
      "14           2442     3.0 2004-04-14      1\n",
      "15         543865     4.0 2004-05-28      1\n",
      "16        1209119     4.0 2004-03-23      1\n",
      "17         804919     4.0 2004-06-10      1\n",
      "18        1086807     3.0 2004-12-28      1\n",
      "19        1711859     4.0 2005-05-08      1\n",
      "20         372233     5.0 2005-11-23      1\n",
      "21        1080361     3.0 2005-03-28      1\n",
      "22        1245640     3.0 2005-12-19      1\n",
      "23         558634     4.0 2004-12-14      1\n",
      "24        2165002     4.0 2004-04-06      1\n",
      "25        1181550     3.0 2004-02-01      1\n",
      "26        1227322     4.0 2004-02-06      1\n",
      "27         427928     4.0 2004-02-26      1\n",
      "28         814701     5.0 2005-09-29      1\n",
      "29         808731     4.0 2005-10-31      1\n",
      "30         662870     5.0 2005-08-24      1\n",
      "...           ...     ...        ...    ...\n",
      "24058233  1836014     3.0 2004-05-05   4499\n",
      "24058234  1960927     1.0 2005-08-30   4499\n",
      "24058235  2385226     1.0 2004-05-17   4499\n",
      "24058236  1997469     2.0 2004-06-22   4499\n",
      "24058237   811530     4.0 2004-07-28   4499\n",
      "24058238  1083336     5.0 2004-12-02   4499\n",
      "24058239  1309223     1.0 2005-04-24   4499\n",
      "24058240   604335     4.0 2005-04-25   4499\n",
      "24058241   307404     2.0 2004-10-22   4499\n",
      "24058242  1334851     3.0 2005-10-25   4499\n",
      "24058243  1061120     3.0 2004-05-25   4499\n",
      "24058244  1852040     1.0 2004-05-13   4499\n",
      "24058245   268846     4.0 2004-04-26   4499\n",
      "24058246  2368103     2.0 2004-07-05   4499\n",
      "24058247   529787     4.0 2005-11-30   4499\n",
      "24058248   441248     4.0 2005-04-05   4499\n",
      "24058249  2092745     5.0 2005-03-15   4499\n",
      "24058250   555962     5.0 2004-05-05   4499\n",
      "24058251   303969     2.0 2004-05-23   4499\n",
      "24058252   654591     3.0 2004-04-26   4499\n",
      "24058253   272857     4.0 2005-06-22   4499\n",
      "24058254   185372     1.0 2004-06-07   4499\n",
      "24058255  2219917     3.0 2004-05-03   4499\n",
      "24058256  1796454     1.0 2004-07-07   4499\n",
      "24058257  2562830     4.0 2004-06-19   4499\n",
      "24058258  2591364     2.0 2005-02-16   4499\n",
      "24058259  1791000     2.0 2005-02-10   4499\n",
      "24058260   512536     5.0 2005-07-27   4499\n",
      "24058261   988963     3.0 2005-12-20   4499\n",
      "24058262  1704416     3.0 2004-06-02   4499\n",
      "\n",
      "[24053764 rows x 4 columns]\n"
     ]
    },
    {
     "name": "stderr",
     "output_type": "stream",
     "text": [
      "/Users/wujingyi/miniconda3/lib/python3.6/site-packages/ipykernel_launcher.py:3: SettingWithCopyWarning: \n",
      "A value is trying to be set on a copy of a slice from a DataFrame.\n",
      "Try using .loc[row_indexer,col_indexer] = value instead\n",
      "\n",
      "See the caveats in the documentation: http://pandas.pydata.org/pandas-docs/stable/indexing.html#indexing-view-versus-copy\n",
      "  This is separate from the ipykernel package so we can avoid doing imports until\n"
     ]
    }
   ],
   "source": [
    "sliced_df['rating']=sliced_df['rating'].astype(float)\n",
    "sliced_df['movie']=sliced_df['movie'].astype(int)\n",
    "sliced_df['user']=sliced_df['user'].astype(int)\n",
    "print(sliced_df)"
   ]
  },
  {
   "cell_type": "code",
   "execution_count": 66,
   "metadata": {},
   "outputs": [
    {
     "name": "stdout",
     "output_type": "stream",
     "text": [
      "             user  movie  rating       date\n",
      "3024      1080361    647     4.0 2005-12-16\n",
      "3084      1080361   1338     4.0 2005-12-16\n",
      "20463     1792741    301     4.0 2005-12-16\n",
      "21638     1792741   3560     5.0 2005-12-22\n",
      "32582     1493615   3612     5.0 2005-12-18\n",
      "40628     1524964    445     3.0 2005-12-27\n",
      "55638     1604238   1200     3.0 2005-12-23\n",
      "67499     1394012      1     5.0 2005-12-19\n",
      "67931     1394012   4057     4.0 2005-12-26\n",
      "81374     2269844    631     4.0 2005-12-18\n",
      "81435     2269844   2699     4.0 2005-12-18\n",
      "90508       16272    758     3.0 2005-12-16\n",
      "93372     2544219   4181     5.0 2005-12-18\n",
      "93382     2544219   4474     3.0 2005-12-18\n",
      "111752    1494196   3092     2.0 2005-12-25\n",
      "117095    1547173    419     5.0 2005-12-27\n",
      "117303    1547173   3528     3.0 2005-12-19\n",
      "121386    2118461      2     4.0 2005-12-20\n",
      "121388    2118461      4     3.0 2005-12-20\n",
      "121390    2118461      6     4.0 2005-12-19\n",
      "121391    2118461      7     3.0 2005-12-22\n",
      "121392    2118461      8     3.0 2005-12-19\n",
      "121393    2118461     10     3.0 2005-12-19\n",
      "121396    2118461     16     5.0 2005-12-19\n",
      "121400    2118461     20     4.0 2005-12-22\n",
      "121401    2118461     21     4.0 2005-12-18\n",
      "121402    2118461     22     3.0 2005-12-18\n",
      "121413    2118461     34     3.0 2005-12-20\n",
      "121414    2118461     35     5.0 2005-12-19\n",
      "121417    2118461     41     2.0 2005-12-22\n",
      "...           ...    ...     ...        ...\n",
      "21587444  1671042   2848     3.0 2005-12-27\n",
      "21587446  1671042   2900     4.0 2005-12-27\n",
      "21587448  1671042   2980     3.0 2005-12-27\n",
      "21587449  1671042   2992     3.0 2005-12-27\n",
      "21587451  1671042   3071     2.0 2005-12-27\n",
      "21587454  1671042   3161     3.0 2005-12-27\n",
      "21587455  1671042   3197     3.0 2005-12-27\n",
      "21587456  1671042   3198     3.0 2005-12-27\n",
      "21587457  1671042   3232     3.0 2005-12-27\n",
      "21587458  1671042   3282     3.0 2005-12-27\n",
      "21587464  1671042   3480     4.0 2005-12-27\n",
      "21587465  1671042   3541     3.0 2005-12-27\n",
      "21587467  1671042   3617     3.0 2005-12-27\n",
      "21587469  1671042   3638     3.0 2005-12-27\n",
      "21587470  1671042   3689     4.0 2005-12-27\n",
      "21587471  1671042   3782     3.0 2005-12-27\n",
      "21587472  1671042   3804     3.0 2005-12-27\n",
      "21587475  1671042   3920     3.0 2005-12-27\n",
      "21587477  1671042   3936     3.0 2005-12-27\n",
      "21587479  1671042   3954     2.0 2005-12-27\n",
      "21587482  1671042   4141     3.0 2005-12-27\n",
      "21587483  1671042   4159     2.0 2005-12-27\n",
      "21587490  1671042   4465     3.0 2005-12-27\n",
      "21721060  2242179    443     5.0 2005-12-21\n",
      "22197832  2544391   3864     1.0 2005-12-26\n",
      "22388939  1910918    896     3.0 2005-12-29\n",
      "22388947  1910918   1406     3.0 2005-12-29\n",
      "22388960  1910918   1743     3.0 2005-12-29\n",
      "22388969  1910918   1902     4.0 2005-12-29\n",
      "22476492   136460   1661     3.0 2005-12-17\n",
      "\n",
      "[10344 rows x 4 columns]\n"
     ]
    }
   ],
   "source": [
    "# users_df = get_users_df(sliced_df)\n",
    "# train_set, test_set = filter_data_by_user(sliced_df,users_df,frac=0.1,count=50)\n",
    "train_set, test_set, target_set = filter_data_by_date(sliced_df,users_df)\n",
    "print(test_set)"
   ]
  },
  {
   "cell_type": "code",
   "execution_count": 61,
   "metadata": {},
   "outputs": [],
   "source": [
    "# train_set"
   ]
  },
  {
   "cell_type": "code",
   "execution_count": 67,
   "metadata": {},
   "outputs": [],
   "source": [
    "train_set.to_csv(r'./dataset/cleaned_train_5.csv',index=False,sep=',')\n",
    "test_set.to_csv(r'./dataset/cleaned_test_5.csv',index=False,sep=',')\n",
    "target_set.to_csv(r'./dataset/cleaned_target_5.csv',index=False,sep=',')"
   ]
  },
  {
   "cell_type": "code",
   "execution_count": null,
   "metadata": {},
   "outputs": [],
   "source": [
    "def make_sprase_matrix(df,users_df):\n",
    "    np_matrix = np.zeros((df.shape[0], df.shape[1]))\n",
    "    users = list(users_df['user']) #用户列表\n",
    "\n",
    "    for user in users:\n",
    "        user_list = df[df['user']== user] #获取全部用户评分\n",
    "        np_matrix[i][user_list['movie'] -1] = user_list['rating'] #按index插入评分\n",
    "\n",
    "    return sprase_matrix"
   ]
  },
  {
   "cell_type": "code",
   "execution_count": null,
   "metadata": {},
   "outputs": [],
   "source": [
    "sprase_train = make_sprase_matrix(train_set,users_df)\n",
    "np.savetxt('dataset/sprase_train_2.txt',sprase_train)\n",
    "sprase_test = make_sprase_matrix(test_set,users_df)\n",
    "np.savetxt('dataset/sprase_test_2.txt',sprase_test)"
   ]
  },
  {
   "cell_type": "code",
   "execution_count": null,
   "metadata": {},
   "outputs": [],
   "source": []
  },
  {
   "cell_type": "code",
   "execution_count": null,
   "metadata": {},
   "outputs": [],
   "source": []
  }
 ],
 "metadata": {
  "kernelspec": {
   "display_name": "Python 3",
   "language": "python",
   "name": "python3"
  },
  "language_info": {
   "codemirror_mode": {
    "name": "ipython",
    "version": 3
   },
   "file_extension": ".py",
   "mimetype": "text/x-python",
   "name": "python",
   "nbconvert_exporter": "python",
   "pygments_lexer": "ipython3",
   "version": "3.6.8"
  }
 },
 "nbformat": 4,
 "nbformat_minor": 2
}
