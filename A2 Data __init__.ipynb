{
 "cells": [
  {
   "cell_type": "code",
   "execution_count": 1,
   "metadata": {},
   "outputs": [],
   "source": [
    "%matplotlib inline\n",
    "import matplotlib.pyplot as plt\n",
    "import numpy as np\n",
    "import pandas as pd"
   ]
  },
  {
   "cell_type": "code",
   "execution_count": 2,
   "metadata": {},
   "outputs": [],
   "source": [
    "# read data and skip 'date' colume\n",
    "df = pd.read_csv('./dataset/netflix-prize-data/combined_data_1.txt', \n",
    "                 header = None, names = ['user', 'rating'], \n",
    "                 usecols = [0,1])\n"
   ]
  },
  {
   "cell_type": "code",
   "execution_count": 11,
   "metadata": {},
   "outputs": [],
   "source": [
    "def slice_movie(df):\n",
    "    # find empty rows for slice movies \n",
    "    # dataset using movie id as user name for splite rating of each movies\n",
    "    movies_interval = df[df['rating'].isna()]['user'].reset_index()\n",
    "    movies_interval['index'] = movies_interval['index'].astype(int)\n",
    "    \n",
    "    # create list accroding to movie interval by np\n",
    "    movie_id = 1\n",
    "    movie_np = []\n",
    "    last = None\n",
    "    for i,r in movies_interval.iterrows():\n",
    "        if last != None: \n",
    "            temp = np.full((1,r['index']-last-1), movie_id)\n",
    "            movie_np = np.append(movie_np, temp)\n",
    "            movie_id +=1\n",
    "        last = r['index']\n",
    "    # add last movie\n",
    "    temp = np.full((1,len(df)-last-1), movie_id)\n",
    "    movie_np = np.append(movie_np, temp)\n",
    "    \n",
    "    # removie movie slice row, and combine movie colume\n",
    "    df = df[pd.notnull(df['rating'])]\n",
    "    df['movie'] = movie_np.astype(int)\n",
    "    \n",
    "    return df"
   ]
  },
  {
   "cell_type": "code",
   "execution_count": 12,
   "metadata": {},
   "outputs": [],
   "source": [
    "def get_users_df(df):\n",
    "    # get user list and their rating count\n",
    "    return df.groupby('user')['user'].agg(['count']).reset_index()"
   ]
  },
  {
   "cell_type": "code",
   "execution_count": 13,
   "metadata": {},
   "outputs": [],
   "source": [
    "def filter_data_by_user(df,users_df, frac=0.1,count=50):\n",
    "    # get test users\n",
    "    test_users_df = users_df[users_df['count']>count].sample(frac=frac)\n",
    "    # filter user by rating count\n",
    "    cdf = df.merge(users_df, left_on='user',right_on='user')\n",
    "    cdf = cdf[cdf['count']>count][['user','movie','rating']]\n",
    "    \n",
    "    train_set = cdf[~(cdf['user'].isin(test_users_df['user']))]\n",
    "    test_set = cdf[cdf['user'].isin(test_users_df['user'])]\n",
    "    return train_set, test_set\n"
   ]
  },
  {
   "cell_type": "code",
   "execution_count": 14,
   "metadata": {},
   "outputs": [
    {
     "name": "stderr",
     "output_type": "stream",
     "text": [
      "/Users/wujingyi/miniconda3/lib/python3.6/site-packages/ipykernel_launcher.py:23: SettingWithCopyWarning: \n",
      "A value is trying to be set on a copy of a slice from a DataFrame.\n",
      "Try using .loc[row_indexer,col_indexer] = value instead\n",
      "\n",
      "See the caveats in the documentation: http://pandas.pydata.org/pandas-docs/stable/indexing.html#indexing-view-versus-copy\n"
     ]
    }
   ],
   "source": [
    "sliced_df = slice_movie(df)"
   ]
  },
  {
   "cell_type": "code",
   "execution_count": 15,
   "metadata": {},
   "outputs": [
    {
     "name": "stderr",
     "output_type": "stream",
     "text": [
      "/Users/wujingyi/miniconda3/lib/python3.6/site-packages/ipykernel_launcher.py:1: SettingWithCopyWarning: \n",
      "A value is trying to be set on a copy of a slice from a DataFrame.\n",
      "Try using .loc[row_indexer,col_indexer] = value instead\n",
      "\n",
      "See the caveats in the documentation: http://pandas.pydata.org/pandas-docs/stable/indexing.html#indexing-view-versus-copy\n",
      "  \"\"\"Entry point for launching an IPython kernel.\n",
      "/Users/wujingyi/miniconda3/lib/python3.6/site-packages/ipykernel_launcher.py:2: SettingWithCopyWarning: \n",
      "A value is trying to be set on a copy of a slice from a DataFrame.\n",
      "Try using .loc[row_indexer,col_indexer] = value instead\n",
      "\n",
      "See the caveats in the documentation: http://pandas.pydata.org/pandas-docs/stable/indexing.html#indexing-view-versus-copy\n",
      "  \n"
     ]
    },
    {
     "name": "stdout",
     "output_type": "stream",
     "text": [
      "             user  rating  movie\n",
      "1         1488844     3.0      1\n",
      "2          822109     5.0      1\n",
      "3          885013     4.0      1\n",
      "4           30878     4.0      1\n",
      "5          823519     3.0      1\n",
      "6          893988     3.0      1\n",
      "7          124105     4.0      1\n",
      "8         1248029     3.0      1\n",
      "9         1842128     4.0      1\n",
      "10        2238063     3.0      1\n",
      "11        1503895     4.0      1\n",
      "12        2207774     5.0      1\n",
      "13        2590061     3.0      1\n",
      "14           2442     3.0      1\n",
      "15         543865     4.0      1\n",
      "16        1209119     4.0      1\n",
      "17         804919     4.0      1\n",
      "18        1086807     3.0      1\n",
      "19        1711859     4.0      1\n",
      "20         372233     5.0      1\n",
      "21        1080361     3.0      1\n",
      "22        1245640     3.0      1\n",
      "23         558634     4.0      1\n",
      "24        2165002     4.0      1\n",
      "25        1181550     3.0      1\n",
      "26        1227322     4.0      1\n",
      "27         427928     4.0      1\n",
      "28         814701     5.0      1\n",
      "29         808731     4.0      1\n",
      "30         662870     5.0      1\n",
      "...           ...     ...    ...\n",
      "24058233  1836014     3.0   4499\n",
      "24058234  1960927     1.0   4499\n",
      "24058235  2385226     1.0   4499\n",
      "24058236  1997469     2.0   4499\n",
      "24058237   811530     4.0   4499\n",
      "24058238  1083336     5.0   4499\n",
      "24058239  1309223     1.0   4499\n",
      "24058240   604335     4.0   4499\n",
      "24058241   307404     2.0   4499\n",
      "24058242  1334851     3.0   4499\n",
      "24058243  1061120     3.0   4499\n",
      "24058244  1852040     1.0   4499\n",
      "24058245   268846     4.0   4499\n",
      "24058246  2368103     2.0   4499\n",
      "24058247   529787     4.0   4499\n",
      "24058248   441248     4.0   4499\n",
      "24058249  2092745     5.0   4499\n",
      "24058250   555962     5.0   4499\n",
      "24058251   303969     2.0   4499\n",
      "24058252   654591     3.0   4499\n",
      "24058253   272857     4.0   4499\n",
      "24058254   185372     1.0   4499\n",
      "24058255  2219917     3.0   4499\n",
      "24058256  1796454     1.0   4499\n",
      "24058257  2562830     4.0   4499\n",
      "24058258  2591364     2.0   4499\n",
      "24058259  1791000     2.0   4499\n",
      "24058260   512536     5.0   4499\n",
      "24058261   988963     3.0   4499\n",
      "24058262  1704416     3.0   4499\n",
      "\n",
      "[24053764 rows x 3 columns]\n"
     ]
    },
    {
     "name": "stderr",
     "output_type": "stream",
     "text": [
      "/Users/wujingyi/miniconda3/lib/python3.6/site-packages/ipykernel_launcher.py:3: SettingWithCopyWarning: \n",
      "A value is trying to be set on a copy of a slice from a DataFrame.\n",
      "Try using .loc[row_indexer,col_indexer] = value instead\n",
      "\n",
      "See the caveats in the documentation: http://pandas.pydata.org/pandas-docs/stable/indexing.html#indexing-view-versus-copy\n",
      "  This is separate from the ipykernel package so we can avoid doing imports until\n"
     ]
    }
   ],
   "source": [
    "sliced_df['rating']=sliced_df['rating'].astype(float)\n",
    "sliced_df['movie']=sliced_df['movie'].astype(int)\n",
    "sliced_df['user']=sliced_df['user'].astype(int)\n",
    "print(sliced_df)"
   ]
  },
  {
   "cell_type": "code",
   "execution_count": 17,
   "metadata": {},
   "outputs": [
    {
     "name": "stdout",
     "output_type": "stream",
     "text": [
      "             user  movie  rating\n",
      "0         1488844      1     3.0\n",
      "1         1488844      8     4.0\n",
      "2         1488844     17     2.0\n",
      "3         1488844     30     3.0\n",
      "4         1488844     44     3.0\n",
      "5         1488844     58     5.0\n",
      "6         1488844     76     3.0\n",
      "7         1488844     80     3.0\n",
      "8         1488844     81     3.0\n",
      "9         1488844     83     3.0\n",
      "10        1488844    108     3.0\n",
      "11        1488844    111     2.0\n",
      "12        1488844    118     3.0\n",
      "13        1488844    143     5.0\n",
      "14        1488844    173     3.0\n",
      "15        1488844    175     3.0\n",
      "16        1488844    187     2.0\n",
      "17        1488844    189     2.0\n",
      "18        1488844    191     5.0\n",
      "19        1488844    195     4.0\n",
      "20        1488844    197     3.0\n",
      "21        1488844    199     3.0\n",
      "22        1488844    216     3.0\n",
      "23        1488844    232     3.0\n",
      "24        1488844    241     3.0\n",
      "25        1488844    268     4.0\n",
      "26        1488844    270     4.0\n",
      "27        1488844    273     2.0\n",
      "28        1488844    275     3.0\n",
      "29        1488844    285     4.0\n",
      "...           ...    ...     ...\n",
      "23740601   605364   2800     4.0\n",
      "23740602   605364   2862     5.0\n",
      "23740603   605364   2913     4.0\n",
      "23740604   605364   2992     3.0\n",
      "23740605   605364   3015     4.0\n",
      "23740606   605364   3106     5.0\n",
      "23740607   605364   3138     3.0\n",
      "23740608   605364   3151     2.0\n",
      "23740609   605364   3320     3.0\n",
      "23740610   605364   3385     4.0\n",
      "23740611   605364   3427     5.0\n",
      "23740612   605364   3624     4.0\n",
      "23740613   605364   3638     5.0\n",
      "23740614   605364   3713     4.0\n",
      "23740615   605364   3756     3.0\n",
      "23740616   605364   3860     3.0\n",
      "23740617   605364   3925     5.0\n",
      "23740618   605364   3936     4.0\n",
      "23740619   605364   3938     5.0\n",
      "23740620   605364   3962     5.0\n",
      "23740621   605364   4043     4.0\n",
      "23740622   605364   4123     4.0\n",
      "23740623   605364   4216     5.0\n",
      "23740624   605364   4262     4.0\n",
      "23740625   605364   4306     5.0\n",
      "23740626   605364   4315     4.0\n",
      "23740627   605364   4356     3.0\n",
      "23740628   605364   4384     3.0\n",
      "23740629   605364   4432     5.0\n",
      "23740630   605364   4472     5.0\n",
      "\n",
      "[16721267 rows x 3 columns]\n"
     ]
    }
   ],
   "source": [
    "users_df = get_users_df(sliced_df)\n",
    "train_set, test_set = filter_data_by_user(sliced_df,users_df,frac=0.1,count=50)\n",
    "print(train_set)"
   ]
  },
  {
   "cell_type": "code",
   "execution_count": 18,
   "metadata": {},
   "outputs": [],
   "source": [
    "train_set.to_csv(r'./dataset/cleaned_train_2.csv',index=False,sep=',')\n",
    "test_set.to_csv(r'./dataset/cleaned_test_2.csv',index=False,sep=',')"
   ]
  },
  {
   "cell_type": "code",
   "execution_count": null,
   "metadata": {},
   "outputs": [],
   "source": [
    "def make_sprase_matrix(df,users_df):\n",
    "    np_matrix = np.zeros((df.shape[0], df.shape[1]))\n",
    "    users = list(users_df['user']) #用户列表\n",
    "\n",
    "    for user in users:\n",
    "        user_list = df[df['user']== user] #获取全部用户评分\n",
    "        np_matrix[i][user_list['movie'] -1] = user_list['rating'] #按index插入评分\n",
    "\n",
    "    return sprase_matrix"
   ]
  },
  {
   "cell_type": "code",
   "execution_count": null,
   "metadata": {},
   "outputs": [],
   "source": [
    "sprase_train = make_sprase_matrix(train_set,users_df)\n",
    "np.savetxt('dataset/sprase_train_2.txt',sprase_train)\n",
    "sprase_test = make_sprase_matrix(test_set,users_df)\n",
    "np.savetxt('dataset/sprase_test_2.txt',sprase_test)"
   ]
  },
  {
   "cell_type": "code",
   "execution_count": null,
   "metadata": {},
   "outputs": [],
   "source": []
  },
  {
   "cell_type": "code",
   "execution_count": null,
   "metadata": {},
   "outputs": [],
   "source": []
  }
 ],
 "metadata": {
  "kernelspec": {
   "display_name": "Python 3",
   "language": "python",
   "name": "python3"
  },
  "language_info": {
   "codemirror_mode": {
    "name": "ipython",
    "version": 3
   },
   "file_extension": ".py",
   "mimetype": "text/x-python",
   "name": "python",
   "nbconvert_exporter": "python",
   "pygments_lexer": "ipython3",
   "version": "3.6.8"
  }
 },
 "nbformat": 4,
 "nbformat_minor": 2
}
