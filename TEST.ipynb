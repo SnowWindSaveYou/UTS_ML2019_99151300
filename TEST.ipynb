{
 "cells": [
  {
   "cell_type": "code",
   "execution_count": 1,
   "metadata": {},
   "outputs": [],
   "source": [
    "import numpy as np\n"
   ]
  },
  {
   "cell_type": "code",
   "execution_count": 2,
   "metadata": {},
   "outputs": [
    {
     "data": {
      "text/plain": [
       "array([[0.97013378, 0.79901418, 0.13881144, 0.17682182, 0.14488403,\n",
       "        0.05754064, 0.38489881, 0.73206939, 0.27161768, 0.61501749],\n",
       "       [0.04137396, 0.90949246, 0.50837116, 0.79380703, 0.909977  ,\n",
       "        0.16275895, 0.92498284, 0.07220186, 0.02423792, 0.9827523 ],\n",
       "       [0.97381383, 0.88484289, 0.16458046, 0.70251564, 0.05276167,\n",
       "        0.95826317, 0.03041763, 0.51529081, 0.11170583, 0.56493761],\n",
       "       [0.17027938, 0.45366296, 0.10076513, 0.56207272, 0.36960199,\n",
       "        0.95383033, 0.83063748, 0.55565506, 0.90512776, 0.23534351],\n",
       "       [0.73500013, 0.90863888, 0.66471419, 0.621122  , 0.59568401,\n",
       "        0.19463718, 0.57442651, 0.51299954, 0.41580558, 0.65855461]])"
      ]
     },
     "execution_count": 2,
     "metadata": {},
     "output_type": "execute_result"
    }
   ],
   "source": [
    "np.random.rand(5,10) # (y, x)"
   ]
  },
  {
   "cell_type": "code",
   "execution_count": 3,
   "metadata": {},
   "outputs": [
    {
     "data": {
      "text/plain": [
       "array([[0., 0., 0.],\n",
       "       [0., 0., 0.],\n",
       "       [0., 0., 0.],\n",
       "       [0., 0., 0.],\n",
       "       [0., 0., 0.]])"
      ]
     },
     "execution_count": 3,
     "metadata": {},
     "output_type": "execute_result"
    }
   ],
   "source": [
    "np.zeros((5,3)) "
   ]
  },
  {
   "cell_type": "code",
   "execution_count": 4,
   "metadata": {},
   "outputs": [],
   "source": [
    "import torch"
   ]
  },
  {
   "cell_type": "code",
   "execution_count": 5,
   "metadata": {},
   "outputs": [
    {
     "data": {
      "text/plain": [
       "tensor([[ 0.0373,  0.8964],\n",
       "        [ 0.3493,  0.8558],\n",
       "        [ 0.2538,  0.0833]])"
      ]
     },
     "execution_count": 5,
     "metadata": {},
     "output_type": "execute_result"
    }
   ],
   "source": [
    "torch.rand(3,2)"
   ]
  },
  {
   "cell_type": "code",
   "execution_count": 9,
   "metadata": {},
   "outputs": [
    {
     "data": {
      "text/plain": [
       "tensor([[ 0.0648,  0.1735,  0.2877],\n",
       "        [ 0.0865,  0.1089,  0.2621],\n",
       "        [ 0.0321,  0.3423,  0.3977]])"
      ]
     },
     "execution_count": 9,
     "metadata": {},
     "output_type": "execute_result"
    }
   ],
   "source": [
    "ma = torch.rand(3,2)\n",
    "mb = torch.rand(2,3)\n",
    "torch.matmul(ma,mb)"
   ]
  },
  {
   "cell_type": "markdown",
   "metadata": {},
   "source": [
    "- learning from data:  a short course"
   ]
  },
  {
   "cell_type": "code",
   "execution_count": null,
   "metadata": {},
   "outputs": [],
   "source": []
  }
 ],
 "metadata": {
  "kernelspec": {
   "display_name": "Python 3",
   "language": "python",
   "name": "python3"
  },
  "language_info": {
   "codemirror_mode": {
    "name": "ipython",
    "version": 3
   },
   "file_extension": ".py",
   "mimetype": "text/x-python",
   "name": "python",
   "nbconvert_exporter": "python",
   "pygments_lexer": "ipython3",
   "version": "3.6.8"
  }
 },
 "nbformat": 4,
 "nbformat_minor": 2
}
