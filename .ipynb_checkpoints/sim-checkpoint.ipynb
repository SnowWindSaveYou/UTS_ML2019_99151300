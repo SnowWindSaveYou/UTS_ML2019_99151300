{
 "cells": [
  {
   "cell_type": "code",
   "execution_count": 1,
   "metadata": {},
   "outputs": [],
   "source": [
    "import numpy as np\n",
    "import pandas as pd\n",
    "from sklearn.metrics.pairwise import cosine_similarity, pairwise_distances\n",
    "from sklearn.metrics import mean_squared_error\n",
    "from math import sqrt\n"
   ]
  },
  {
   "cell_type": "code",
   "execution_count": 20,
   "metadata": {},
   "outputs": [
    {
     "name": "stdout",
     "output_type": "stream",
     "text": [
      "shape:  (2511, 4499)\n"
     ]
    }
   ],
   "source": [
    "train_data_matrix = np.loadtxt(\"./dataset/np_matrix_1.txt\") \n",
    "print(\"shape: \",train_data_matrix.shape)"
   ]
  },
  {
   "cell_type": "markdown",
   "metadata": {},
   "source": [
    "# Similarity basd Collaborative Filter System\n",
    "\n"
   ]
  },
  {
   "cell_type": "code",
   "execution_count": 99,
   "metadata": {},
   "outputs": [],
   "source": [
    "def get_union(vector1,vector2):\n",
    "    new_vector1 = vector1[(vector1!=0 )& (vector2 != 0)]\n",
    "    new_vector2 = vector2[(vector1!=0 )& (vector2 != 0)]\n",
    "    return new_vector1,new_vector2"
   ]
  },
  {
   "cell_type": "code",
   "execution_count": 100,
   "metadata": {},
   "outputs": [],
   "source": [
    "def cosine_similarity(vector1, vector2):\n",
    "    new_vector1, new_vector2 = get_union(vector1,vector2)\n",
    "    if len(new_vector1)==0 or len(new_vector2)==0:\n",
    "        return 0\n",
    "    dot_product = (new_vector1*new_vector2).sum()\n",
    "    normA = ((new_vector1)**2).sum()\n",
    "    normB = ((new_vector2)**2).sum()\n",
    "    return round(dot_product / ((normA**0.5)*(normB**0.5)), 2)"
   ]
  },
  {
   "cell_type": "code",
   "execution_count": 101,
   "metadata": {},
   "outputs": [],
   "source": [
    "def pearson_similarity(vector1, vector2):\n",
    "    new_vector1, new_vector2 = get_union(vector1,vector2)\n",
    "    if len(new_vector1)==0 or len(new_vector2)==0:\n",
    "        return 0\n",
    "    new_vector1_mean = new_vector1 - np.mean(new_vector1)\n",
    "    new_vector2_mean = new_vector2 - np.mean(new_vector2)\n",
    "    norm = np.linalg.norm(new_vector1_mean)*np.linalg.norm(new_vector2_mean)\n",
    "    return np.dot(new_vector1_mean,new_vector2_mean)/norm"
   ]
  },
  {
   "cell_type": "code",
   "execution_count": 108,
   "metadata": {},
   "outputs": [],
   "source": [
    "def user_sim(train_data_matrix, algo = \"cosine\"):\n",
    "    user_similarity = np.zeros((train_data_matrix.shape[0], train_data_matrix.shape[0]))\n",
    "    for i, cur in enumerate(user_similarity):\n",
    "        for j,v in enumerate(cur):\n",
    "            if user_similarity[i][j] == 0:\n",
    "                if algo == \"cosine\":\n",
    "                    user_similarity[i][j] = cosine_similarity(train_data_matrix[i], train_data_matrix[j])\n",
    "                else:\n",
    "                    user_similarity[i][j] = pearson_similarity(train_data_matrix[i], train_data_matrix[j])\n",
    "                user_similarity[j][i] = user_similarity[i][j]\n",
    "    print(user_similarity.max(), user_similarity.min())\n",
    "    print (user_similarity.shape)\n",
    "    print(user_similarity)\n",
    "    return user_similarity"
   ]
  },
  {
   "cell_type": "code",
   "execution_count": 102,
   "metadata": {},
   "outputs": [],
   "source": [
    "def item_sim(train_data_matrix, algo = \"cosine\"):\n",
    "    train_data_matrix_t = train_data_matrix.T\n",
    "    \n",
    "    item_similarity = np.zeros((train_data_matrix.shape[1], train_data_matrix.shape[1]))\n",
    "    for i, cur in enumerate(item_similarity):\n",
    "        for j,v in enumerate(cur):\n",
    "            if item_similarity[i][j] == 0:\n",
    "                if algo == \"cosine\":\n",
    "                    item_similarity[i][j] = cosine_similarity(train_data_matrix_t[i], train_data_matrix_t[j])\n",
    "                else:\n",
    "                    item_similarity[i][j] = pearson_similarity(train_data_matrix_t[i], train_data_matrix_t[j])\n",
    "                item_similarity[j][i] = item_similarity[i][j]\n",
    "    print(item_similarity.max(), item_similarity.min())\n",
    "    print (item_similarity.shape)\n",
    "    print(item_similarity)\n",
    "    return item_similarity"
   ]
  },
  {
   "cell_type": "code",
   "execution_count": 104,
   "metadata": {},
   "outputs": [],
   "source": [
    "def predict_user(ratings, similarity):\n",
    "    mean_user_rating = ratings.mean(axis=1)\n",
    "    ratings_diff = (ratings - mean_user_rating[:, np.newaxis])\n",
    "    \n",
    "    pred = mean_user_rating[:, np.newaxis] + similarity.dot(ratings_diff)/np.array([np.abs(similarity).sum(axis=1)]).T\n",
    "    for line in pred:\n",
    "        line[np.isnan(line)] = np.nanmean(line)\n",
    "    return pred"
   ]
  },
  {
   "cell_type": "code",
   "execution_count": 122,
   "metadata": {},
   "outputs": [],
   "source": [
    "def predict_item(ratings, similarity):\n",
    "    pred = ratings.dot(similarity) / np.array([np.abs(similarity).sum(axis=1)])\n",
    "    for line in pred:\n",
    "        line[np.isnan(line)] = np.nanmean(line)\n",
    "    return pred"
   ]
  },
  {
   "cell_type": "code",
   "execution_count": 127,
   "metadata": {},
   "outputs": [],
   "source": [
    "def rmsefun(prediction, ground_truth):\n",
    "    prediction = prediction[ground_truth.nonzero()].flatten()\n",
    "    ground_truth = ground_truth[ground_truth.nonzero()].flatten()\n",
    "    return sqrt(mean_squared_error(prediction, ground_truth))\n",
    "\n",
    "def maefun(prediction, ground_truth):\n",
    "    prediction = prediction[ground_truth.nonzero()].flatten()\n",
    "    ground_truth = ground_truth[ground_truth.nonzero()].flatten()\n",
    "    absError = abs(prediction - ground_truth)\n",
    "    return sum(absError) / len(absError)"
   ]
  },
  {
   "cell_type": "code",
   "execution_count": 72,
   "metadata": {},
   "outputs": [],
   "source": [
    "sp_train_matrix = train_data_matrix[:100]\n",
    "sp_test_matrix = train_data_matrix[100:200]"
   ]
  },
  {
   "cell_type": "code",
   "execution_count": 109,
   "metadata": {},
   "outputs": [
    {
     "name": "stdout",
     "output_type": "stream",
     "text": [
      "1.0 0.0\n",
      "(100, 100)\n",
      "[[1.   0.   0.98 ... 0.97 0.98 0.84]\n",
      " [0.   1.   1.   ... 0.   0.   0.  ]\n",
      " [0.98 1.   1.   ... 0.98 0.98 1.  ]\n",
      " ...\n",
      " [0.97 0.   0.98 ... 1.   0.99 0.97]\n",
      " [0.98 0.   0.98 ... 0.99 1.   1.  ]\n",
      " [0.84 0.   1.   ... 0.97 1.   1.  ]]\n"
     ]
    }
   ],
   "source": [
    "user_similarity = user_sim(sp_train_matrix)"
   ]
  },
  {
   "cell_type": "code",
   "execution_count": 129,
   "metadata": {},
   "outputs": [
    {
     "name": "stdout",
     "output_type": "stream",
     "text": [
      "[[-0.00423636 -0.00423636  0.08122311 ... -0.00423636 -0.00423636\n",
      "  -0.00423636]\n",
      " [-0.08557457 -0.08557457  0.20854307 ... -0.08557457 -0.08557457\n",
      "  -0.08557457]\n",
      " [-0.0228834  -0.0228834   0.05139279 ... -0.0228834  -0.0228834\n",
      "  -0.0228834 ]\n",
      " ...\n",
      " [ 0.02555048  0.02555048  0.11502741 ...  0.02555048  0.02555048\n",
      "   0.02555048]\n",
      " [-0.03496    -0.03496     0.02945759 ... -0.03496    -0.03496\n",
      "  -0.03496   ]\n",
      " [-0.0256153  -0.0256153   0.03668156 ... -0.0256153  -0.0256153\n",
      "  -0.0256153 ]]\n"
     ]
    }
   ],
   "source": [
    "user_pred = predict_user(sp_train_matrix, user_similarity)\n",
    "print(user_pred)"
   ]
  },
  {
   "cell_type": "code",
   "execution_count": 131,
   "metadata": {},
   "outputs": [
    {
     "data": {
      "text/plain": [
       "(100, 4499)"
      ]
     },
     "execution_count": 131,
     "metadata": {},
     "output_type": "execute_result"
    }
   ],
   "source": [
    "user_pred.shape"
   ]
  },
  {
   "cell_type": "code",
   "execution_count": 130,
   "metadata": {},
   "outputs": [
    {
     "name": "stdout",
     "output_type": "stream",
     "text": [
      "user-base model RMSE : 3.250\n",
      "user-base model MAE : 3.048\n"
     ]
    }
   ],
   "source": [
    "user_rmse = rmsefun(user_pred, sp_test_matrix) # userbase rmse\n",
    "user_mae = maefun(user_pred, sp_test_matrix) # userbase mae\n",
    "print(\"user-base model RMSE : %.3f\"%(user_rmse))\n",
    "print(\"user-base model MAE : %.3f\"%(user_mae))"
   ]
  },
  {
   "cell_type": "code",
   "execution_count": 117,
   "metadata": {},
   "outputs": [
    {
     "name": "stdout",
     "output_type": "stream",
     "text": [
      "1.0 0.0\n",
      "(4499, 4499)\n",
      "[[0. 0. 0. ... 0. 0. 0.]\n",
      " [0. 0. 0. ... 0. 0. 0.]\n",
      " [0. 0. 1. ... 0. 0. 0.]\n",
      " ...\n",
      " [0. 0. 0. ... 0. 0. 0.]\n",
      " [0. 0. 0. ... 0. 0. 0.]\n",
      " [0. 0. 0. ... 0. 0. 0.]]\n"
     ]
    }
   ],
   "source": [
    "item_similarity = item_sim(sp_train_matrix)"
   ]
  },
  {
   "cell_type": "code",
   "execution_count": 123,
   "metadata": {},
   "outputs": [
    {
     "name": "stdout",
     "output_type": "stream",
     "text": [
      "[[0.34424976 0.34424976 0.5956721  ... 0.34424976 0.34424976 0.34424976]\n",
      " [0.01063755 0.01063755 0.05329922 ... 0.01063755 0.01063755 0.01063755]\n",
      " [0.23135058 0.23135058 0.25583626 ... 0.23135058 0.23135058 0.23135058]\n",
      " ...\n",
      " [0.47861012 0.47861012 0.33013538 ... 0.47861012 0.47861012 0.47861012]\n",
      " [0.12873536 0.12873536 0.24517642 ... 0.12873536 0.12873536 0.12873536]\n",
      " [0.14570407 0.14570407 0.54365206 ... 0.14570407 0.14570407 0.14570407]]\n"
     ]
    },
    {
     "name": "stderr",
     "output_type": "stream",
     "text": [
      "/Users/wujingyi/miniconda3/lib/python3.6/site-packages/ipykernel_launcher.py:15: RuntimeWarning: divide by zero encountered in true_divide\n",
      "  from ipykernel import kernelapp as app\n",
      "/Users/wujingyi/miniconda3/lib/python3.6/site-packages/ipykernel_launcher.py:15: RuntimeWarning: invalid value encountered in true_divide\n",
      "  from ipykernel import kernelapp as app\n"
     ]
    }
   ],
   "source": [
    "item_pred = predict_item(sp_train_matrix, item_similarity)\n",
    "print(item_pred)"
   ]
  },
  {
   "cell_type": "code",
   "execution_count": 132,
   "metadata": {},
   "outputs": [
    {
     "data": {
      "text/plain": [
       "(100, 4499)"
      ]
     },
     "execution_count": 132,
     "metadata": {},
     "output_type": "execute_result"
    }
   ],
   "source": [
    "item_pred.shape"
   ]
  },
  {
   "cell_type": "code",
   "execution_count": 128,
   "metadata": {},
   "outputs": [
    {
     "name": "stdout",
     "output_type": "stream",
     "text": [
      "item_rmse model RMSE : 2.898\n",
      "item_rmse model MAE : 2.552\n"
     ]
    }
   ],
   "source": [
    "item_rmse = rmsefun(item_pred, sp_train_matrix) # itembase rmse\n",
    "item_mae = maefun(item_pred, sp_train_matrix) # itembase mae\n",
    "print(\"item_rmse model RMSE : %.3f\"%(item_rmse))\n",
    "print(\"item_rmse model MAE : %.3f\"%(item_mae))"
   ]
  },
  {
   "cell_type": "code",
   "execution_count": null,
   "metadata": {},
   "outputs": [],
   "source": []
  },
  {
   "cell_type": "code",
   "execution_count": null,
   "metadata": {},
   "outputs": [],
   "source": []
  },
  {
   "cell_type": "code",
   "execution_count": null,
   "metadata": {},
   "outputs": [],
   "source": [
    "# test_data_matrix = np.loadtxt(\"./dataset/np_matrix_2.txt\") \n",
    "# print(\"shape: \",test_data_matrix.shape)"
   ]
  }
 ],
 "metadata": {
  "kernelspec": {
   "display_name": "Python 3",
   "language": "python",
   "name": "python3"
  },
  "language_info": {
   "codemirror_mode": {
    "name": "ipython",
    "version": 3
   },
   "file_extension": ".py",
   "mimetype": "text/x-python",
   "name": "python",
   "nbconvert_exporter": "python",
   "pygments_lexer": "ipython3",
   "version": "3.6.8"
  }
 },
 "nbformat": 4,
 "nbformat_minor": 2
}
